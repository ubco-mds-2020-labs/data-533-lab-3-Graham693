{
 "metadata": {
  "language_info": {
   "codemirror_mode": {
    "name": "ipython",
    "version": 3
   },
   "file_extension": ".py",
   "mimetype": "text/x-python",
   "name": "python",
   "nbconvert_exporter": "python",
   "pygments_lexer": "ipython3",
   "version": "3.8.3-final"
  },
  "orig_nbformat": 2,
  "kernelspec": {
   "name": "python3",
   "display_name": "Python 3"
  }
 },
 "nbformat": 4,
 "nbformat_minor": 2,
 "cells": [
  {
   "cell_type": "code",
   "execution_count": 1,
   "metadata": {},
   "outputs": [],
   "source": [
    "import procedure\n",
    "import patient"
   ]
  },
  {
   "cell_type": "code",
   "execution_count": 2,
   "metadata": {},
   "outputs": [],
   "source": [
    "Patient1 = patient.Patient(\"Andres\", 34, 'Broken leg')\n",
    "Patient2 = patient.Patient(\"Therrie\", 28, 'Matunity')"
   ]
  },
  {
   "cell_type": "code",
   "execution_count": 3,
   "metadata": {},
   "outputs": [
    {
     "output_type": "stream",
     "name": "stdout",
     "text": [
      "Patient name: Andres \nAge: 34 \nService: Broken leg \nPre-existing Conditions: None \n\nPatient name: Therrie \nAge: 28 \nService: Matunity \nPre-existing Conditions: None \n\n"
     ]
    }
   ],
   "source": [
    "Patient1.displayPatient()\n",
    "Patient2.displayPatient()"
   ]
  },
  {
   "cell_type": "code",
   "execution_count": 4,
   "metadata": {},
   "outputs": [
    {
     "output_type": "stream",
     "name": "stdout",
     "text": [
      "List of patients:\n--------------------\nName: Andres\nAge: 34\nService: Broken leg\nPre-existing Conditions: None\n--------------------\nName: Therrie\nAge: 28\nService: Matunity\nPre-existing Conditions: None\n--------------------\n"
     ]
    }
   ],
   "source": [
    "Patient1.diplayPatientsList()"
   ]
  },
  {
   "cell_type": "code",
   "execution_count": 5,
   "metadata": {},
   "outputs": [
    {
     "output_type": "stream",
     "name": "stdout",
     "text": [
      "Current patient count: 2\n"
     ]
    }
   ],
   "source": [
    "Patient1.displayCount()"
   ]
  },
  {
   "cell_type": "code",
   "execution_count": 6,
   "metadata": {},
   "outputs": [
    {
     "output_type": "execute_result",
     "data": {
      "text/plain": [
       "2"
      ]
     },
     "metadata": {},
     "execution_count": 6
    }
   ],
   "source": [
    "patient.Patient.count"
   ]
  },
  {
   "cell_type": "code",
   "execution_count": 7,
   "metadata": {},
   "outputs": [],
   "source": [
    "Procedure1 = procedure.Procedure('Surgery1',3,10000,120)\n",
    "Procedure2 = procedure.Procedure('Surgery2',8,20000,240)"
   ]
  },
  {
   "cell_type": "code",
   "execution_count": 8,
   "metadata": {},
   "outputs": [],
   "source": [
    "listProcedures = (Procedure1, Procedure2)"
   ]
  },
  {
   "cell_type": "code",
   "execution_count": 9,
   "metadata": {},
   "outputs": [
    {
     "output_type": "stream",
     "name": "stdout",
     "text": [
      "Procedure name: Surgery1 \nBase procedure risk: 3 \nBase procedure cost: 10000 \nAverage length of care: 120 \n\nProcedure name: Surgery2 \nBase procedure risk: 8 \nBase procedure cost: 20000 \nAverage length of care: 240 \n\n"
     ]
    }
   ],
   "source": [
    "Procedure1.displayProcedure()\n",
    "Procedure2.displayProcedure()"
   ]
  },
  {
   "cell_type": "code",
   "execution_count": 10,
   "metadata": {},
   "outputs": [
    {
     "output_type": "stream",
     "name": "stdout",
     "text": [
      "11152.0\nProcedure risk is too high risk. Procedure will not proceed.\n"
     ]
    }
   ],
   "source": [
    "print(Procedure1.expectedTotalProcedureCost(Patient1))\n",
    "Procedure2.expectedTotalProcedureCost(Patient1)"
   ]
  },
  {
   "cell_type": "code",
   "execution_count": 11,
   "metadata": {},
   "outputs": [
    {
     "output_type": "execute_result",
     "data": {
      "text/plain": [
       "4"
      ]
     },
     "metadata": {},
     "execution_count": 11
    }
   ],
   "source": [
    "Procedure1.indProcedureRisk(Patient1)"
   ]
  },
  {
   "cell_type": "code",
   "execution_count": 12,
   "metadata": {},
   "outputs": [
    {
     "output_type": "stream",
     "name": "stdout",
     "text": [
      "Patient name: Therrie \nAge: 28 \nService: Matunity \nPre-existing Conditions: ('immune suppressed', 'Cancer') \n\n"
     ]
    }
   ],
   "source": [
    "P3UnderCond = ('immune suppressed','Cancer')\n",
    "Patient3 = patient.Patient(\"Therrie\", 28, 'Matunity', P3UnderCond)\n",
    "Patient3.displayPatient()"
   ]
  },
  {
   "cell_type": "code",
   "execution_count": 13,
   "metadata": {},
   "outputs": [
    {
     "output_type": "stream",
     "name": "stdout",
     "text": [
      "11152.0\nProcedure risk is too high risk. Procedure will not proceed.\nNone\n"
     ]
    }
   ],
   "source": [
    "print(Procedure1.expectedTotalProcedureCost(Patient1))\n",
    "print(Procedure2.expectedTotalProcedureCost(Patient1))"
   ]
  },
  {
   "cell_type": "code",
   "execution_count": 14,
   "metadata": {},
   "outputs": [
    {
     "output_type": "stream",
     "name": "stdout",
     "text": [
      "Procedure name: Surgery2 \nBase procedure risk: 8 \nBase procedure cost: 20000 \nAverage length of care: 240 \n\n"
     ]
    }
   ],
   "source": [
    "listProcedures[1].displayProcedure()"
   ]
  },
  {
   "cell_type": "code",
   "execution_count": 15,
   "metadata": {},
   "outputs": [
    {
     "output_type": "stream",
     "name": "stdout",
     "text": [
      "Procedure name: Surgery1 \nBase procedure risk: 3 \nBase procedure cost: 10000 \nAverage length of care: 120 \n\n"
     ]
    }
   ],
   "source": [
    "for row in listProcedures:\n",
    "    if row.indProcedureRisk(Patient1) <= 8:\n",
    "        row.displayProcedure()"
   ]
  },
  {
   "cell_type": "code",
   "execution_count": 16,
   "metadata": {},
   "outputs": [
    {
     "output_type": "stream",
     "name": "stdout",
     "text": [
      "Procedure:\tBase procedure cost:\tStaffing cost:\tExpected total cost:\tRisk factor\tComments\n----------\t--------------------\t--------------\t--------------------\t-----------\t-----------\nSurgery1\t10000\t\t\t1152.0\t\t11152.0\t\t\t4\t\t\nSurgery2\tNA\t\t\tNA\t\tNA\t\t\t9\t\tDenied, too high risk\n----------\t--------------------\t--------------\t--------------------\t-----------\t-----------\nTotal cost:\t10000\t\t\t1152.0\t\t11152.0\n"
     ]
    }
   ],
   "source": [
    "Patient1.totalPatientCost(listProcedures)"
   ]
  },
  {
   "cell_type": "code",
   "execution_count": null,
   "metadata": {},
   "outputs": [],
   "source": []
  }
 ]
}
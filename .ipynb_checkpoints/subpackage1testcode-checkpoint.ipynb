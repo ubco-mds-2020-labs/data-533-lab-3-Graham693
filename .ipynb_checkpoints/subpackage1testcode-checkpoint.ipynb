{
 "cells": [
  {
   "cell_type": "code",
   "execution_count": 71,
   "metadata": {},
   "outputs": [],
   "source": [
    "class Member:\n",
    "    \n",
    "    def __init__(self, name, hourly_wage, years_emplyed):\n",
    "    \n",
    "    \n",
    "        self.name=name\n",
    "        self.hourly_wage = hourly_wage\n",
    "        self.years_emplyed=years_emplyed\n",
    "        print('(Hospital Member: {})'.format(self.name))\n",
    "\n",
    "    \n",
    "    def display(self):\n",
    "        \n",
    "        print('Name: {}, Hourly wage: {}'.format(self.name,self.hourly_wage))\n",
    "        \n",
    "        \n",
    "        \n",
    "    def christmasBonus(self):\n",
    "        if self.years_emplyed<5:\n",
    "            c_bonus=500\n",
    "            print('{}s Christmas bonus is {} $'.format(self.name, c_bonus ))\n",
    "        \n",
    "        elif (self.years_emplyed>5 and self.years_emplyed<10):\n",
    "            c_bonus=1000\n",
    "            print('{}s Christmas bonus is {} $'.format(self.name, c_bonus ))\n",
    "                \n",
    "        else: \n",
    "        \n",
    "            c_bonus=2000\n",
    "            print('{}s Christmas bonus is {} $'.format(self.name, c_bonus ))"
   ]
  },
  {
   "cell_type": "code",
   "execution_count": 36,
   "metadata": {},
   "outputs": [],
   "source": [
    "import random\n",
    "class Physician(Member):\n",
    "    \n",
    "    physicianList = list()\n",
    "    Member.count=0\n",
    "    \n",
    "    def __init__(self, name, hourly_wage, years_emplyed, department):\n",
    "        Member.__init__(self, name, hourly_wage, years_emplyed)\n",
    "        self.department = department\n",
    "        \n",
    "        Member.count = Member.count+1\n",
    "        doctor = (self.name, self.hourly_wage, self. years_emplyed,self.department)\n",
    "        Physician.physicianList.append(doctor)\n",
    "        \n",
    "        \n",
    "    def display(self):\n",
    "        Member.display(self)\n",
    "        print('Physican Department: {}'.format(self.department))\n",
    "        \n",
    "        \n",
    "    def christmasBonus(self):\n",
    "        Member.christmasBonus(self)\n",
    "        \n",
    "    def physicianCount(self):\n",
    "        \n",
    "        print(\"There are {} physicans currently working at this hospital\".format(Member.count))\n",
    "    \n",
    "    \n",
    "    \n",
    "    def displayPhysicians(self):\n",
    "        print(\"Current Physicians:\")\n",
    "        print(\"--------------------\")\n",
    "        for row in Physician.physicianList:\n",
    "            print('Name: Dr.',row[0])\n",
    "            print('Hourly salary:',row[1])\n",
    "            print('Department:',row[3])\n",
    "            print(\"--------------------\")\n",
    "            \n",
    "            \n",
    "            \n",
    "            \n",
    "    def yearlySalary(self, hours_per_week):\n",
    "        \n",
    "        ##before taxes\n",
    "        yearly_sal=hours_per_week*52*self.hourly_wage\n",
    "        \n",
    "        ##after taxes\n",
    "        \n",
    "        if yearly_sal<=700000:\n",
    "                tax_rate=0.05\n",
    "                \n",
    "        elif yearly_sal>700000 and yearly_sal<1000000:\n",
    "            tax_rate=0.10\n",
    "            \n",
    "        else:\n",
    "             tax_rate=0.20\n",
    "        \n",
    "        take_home_pay=yearly_sal-(yearly_sal*tax_rate)\n",
    "        \n",
    "        print('Yearly take home pay for Dr. {} is {} after taxes'.format(self.name,take_home_pay))\n",
    "        \n",
    "    \n",
    "    def vactionTimePriority(self):\n",
    "        ##done by a lottery system\n",
    "        priority_nums = list(range(len(Physician.physicianList)))\n",
    "        random.shuffle(priority_nums)   \n",
    "        \n",
    "        print(priority_nums)\n",
    "        priority_list=[]\n",
    "        for i in Physician.physicianList:\n",
    "            priority_list.append(i[0])       \n",
    "        \n",
    "        \n",
    "        \n",
    "        priority_dict = {} \n",
    "        \n",
    "        for name in priority_list: \n",
    "            for num in priority_nums: \n",
    "                priority_dict[name] = num \n",
    "                priority_nums.remove(num) \n",
    "                break  \n",
    "        \n",
    "        requested_weeks=[]\n",
    "        print('Physician vacation time will be granted in this order:')\n",
    "        for v in sorted( priority_dict.values() ):\n",
    "            for key in priority_dict:\n",
    "                if priority_dict[ key ] == v:\n",
    "                    print(key,v)\n",
    "                    break\n",
    "                    \n",
    "                    \n",
    "    def oncallschedule(self):\n",
    "        remaining_days=[]\n",
    "        ##done by a lottery system\n",
    "        days_open=['Sunday','Monday',\"Tuesday\",\"Wednesday\",\"Thursday\",\"Friday\",\"Saturday\"]\n",
    "        \n",
    "        random.shuffle(days_open)   \n",
    "        doctor_list=[]\n",
    "        for i in Physician.physicianList:\n",
    "            doctor_list.append(i[0:5])       \n",
    "        \n",
    "        priority_dict = {} \n",
    "       \n",
    "        if len(doctor_list) ==7:\n",
    "            random.shuffle(doctor_list)\n",
    "            priority_dict=dict(zip(days_open,doctor_list))\n",
    "           \n",
    "                           \n",
    "        elif len(doctor_list) < len(days_open):\n",
    "            random.shuffle(doctor_list)\n",
    "            assigned_days=days_open[:len(doctor_list)+1]\n",
    "            \n",
    "            priority_dict=dict(zip(assigned_days,doctor_list))\n",
    "           \n",
    "            remaining_days=[]\n",
    "            for x in days_open:\n",
    "                if x not in priority_dict:\n",
    "                                \n",
    "                    remaining_days.append(x)\n",
    "                    \n",
    "                    for day in remaining_days:\n",
    "                        \n",
    "                        priority_dict[day]=random.choice(doctor_list)\n",
    "                        \n",
    "                    \n",
    "        else:\n",
    "            random.shuffle(doctor_list)\n",
    "            assigned_people=doctor_list[:len(days_open)+1]\n",
    "            not_on_call=doctor_list[len(days_open):]\n",
    "            priority_dict=dict(zip(days_open,assigned_people))\n",
    "            \n",
    "            for person in not_on_call:\n",
    "                print(\"Doctor\", person,\"is not on call this week\")\n",
    "        \n",
    "        \n",
    "        for i in priority_dict:\n",
    "            print(i,\"on call doctor:\",priority_dict[i])\n",
    "            \n",
    "            \n",
    "            "
   ]
  },
  {
   "cell_type": "code",
   "execution_count": 38,
   "metadata": {},
   "outputs": [
    {
     "name": "stdout",
     "output_type": "stream",
     "text": [
      "(Hospital Member: Sally)\n",
      "(Hospital Member: Bob)\n",
      "(Hospital Member: Sam)\n",
      "(Hospital Member: Jeremy)\n"
     ]
    }
   ],
   "source": [
    "##testing##\n",
    "physician1=Physician(\"Sally\", 350,1, \"Oncology\")\n",
    "physician2=Physician(\"Bob\", 275, 2, \"Psychiatry\")\n",
    "physician3=Physician(\"Sam\", 400,6,  \"Dermatology\")\n",
    "physician4=Physician(\"Jeremy\", 345, 15, \"Pediactrics\")"
   ]
  },
  {
   "cell_type": "code",
   "execution_count": 39,
   "metadata": {},
   "outputs": [
    {
     "name": "stdout",
     "output_type": "stream",
     "text": [
      "Jeremys Christmas bonus is 2000 $\n"
     ]
    }
   ],
   "source": [
    "physician4.christmasBonus()"
   ]
  },
  {
   "cell_type": "code",
   "execution_count": 40,
   "metadata": {},
   "outputs": [
    {
     "name": "stdout",
     "output_type": "stream",
     "text": [
      "Name: Jeremy, Hourly wage: 345\n",
      "Physican Department: Pediactrics\n"
     ]
    }
   ],
   "source": [
    "physician4.display()"
   ]
  },
  {
   "cell_type": "code",
   "execution_count": 41,
   "metadata": {},
   "outputs": [
    {
     "name": "stdout",
     "output_type": "stream",
     "text": [
      "Yearly take home pay for Dr. Bob is 611325.0 after taxes\n",
      "Yearly take home pay for Dr. Jeremy is 340860.0 after taxes\n"
     ]
    }
   ],
   "source": [
    "physician2.yearlySalary(45)\n",
    "physician4.yearlySalary(20)"
   ]
  },
  {
   "cell_type": "code",
   "execution_count": 42,
   "metadata": {},
   "outputs": [
    {
     "name": "stdout",
     "output_type": "stream",
     "text": [
      "Thursday on call doctor: ('Sally', 350, 1, 'Oncology')\n",
      "Friday on call doctor: ('Sam', 400, 6, 'Dermatology')\n",
      "Wednesday on call doctor: ('Bob', 275, 2, 'Psychiatry')\n",
      "Sunday on call doctor: ('Jeremy', 345, 15, 'Pediactrics')\n",
      "Monday on call doctor: ('Bob', 275, 2, 'Psychiatry')\n",
      "Saturday on call doctor: ('Sally', 350, 1, 'Oncology')\n",
      "Tuesday on call doctor: ('Bob', 275, 2, 'Psychiatry')\n"
     ]
    }
   ],
   "source": [
    "\n",
    "\n",
    "\n",
    "physician2.oncallschedule()\n",
    "\n"
   ]
  },
  {
   "cell_type": "code",
   "execution_count": 43,
   "metadata": {},
   "outputs": [
    {
     "name": "stdout",
     "output_type": "stream",
     "text": [
      "There are 4 physicans currently working at this hospital\n"
     ]
    }
   ],
   "source": [
    "physician2.physicianCount()"
   ]
  },
  {
   "cell_type": "code",
   "execution_count": 44,
   "metadata": {},
   "outputs": [
    {
     "name": "stdout",
     "output_type": "stream",
     "text": [
      "(Hospital Member: Brittany)\n"
     ]
    }
   ],
   "source": [
    "physician5=Physician(\"Brittany\", 400, 7, \"Oncology2\")"
   ]
  },
  {
   "cell_type": "code",
   "execution_count": 45,
   "metadata": {},
   "outputs": [
    {
     "name": "stdout",
     "output_type": "stream",
     "text": [
      "There are 5 physicans currently working at this hospital\n"
     ]
    }
   ],
   "source": [
    "physician2.physicianCount()"
   ]
  },
  {
   "cell_type": "code",
   "execution_count": 46,
   "metadata": {},
   "outputs": [
    {
     "name": "stdout",
     "output_type": "stream",
     "text": [
      "Current Physicians:\n",
      "--------------------\n",
      "Name: Dr. Sally\n",
      "Hourly salary: 350\n",
      "Department: Oncology\n",
      "--------------------\n",
      "Name: Dr. Bob\n",
      "Hourly salary: 275\n",
      "Department: Psychiatry\n",
      "--------------------\n",
      "Name: Dr. Sam\n",
      "Hourly salary: 400\n",
      "Department: Dermatology\n",
      "--------------------\n",
      "Name: Dr. Jeremy\n",
      "Hourly salary: 345\n",
      "Department: Pediactrics\n",
      "--------------------\n",
      "Name: Dr. Brittany\n",
      "Hourly salary: 400\n",
      "Department: Oncology2\n",
      "--------------------\n"
     ]
    }
   ],
   "source": [
    "physician1.displayPhysicians()"
   ]
  },
  {
   "cell_type": "code",
   "execution_count": 47,
   "metadata": {},
   "outputs": [
    {
     "name": "stdout",
     "output_type": "stream",
     "text": [
      "[2, 1, 3, 4, 0]\n",
      "{'Sally': 2, 'Bob': 1, 'Sam': 3, 'Jeremy': 4, 'Brittany': 0}\n",
      "Physician vacation time will be granted in this order:\n",
      "Brittany 0\n",
      "Bob 1\n",
      "Sally 2\n",
      "Sam 3\n",
      "Jeremy 4\n"
     ]
    }
   ],
   "source": [
    "physician2.vactionTimePriority()"
   ]
  },
  {
   "cell_type": "code",
   "execution_count": 48,
   "metadata": {},
   "outputs": [
    {
     "name": "stdout",
     "output_type": "stream",
     "text": [
      "Name: Bob, Hourly wage: 275\n",
      "Physican Department: Psychiatry\n"
     ]
    }
   ],
   "source": [
    "physician2.display()"
   ]
  },
  {
   "cell_type": "code",
   "execution_count": 49,
   "metadata": {},
   "outputs": [
    {
     "name": "stdout",
     "output_type": "stream",
     "text": [
      "(Hospital Member: Norma)\n",
      "(Hospital Member: Wanda)\n"
     ]
    }
   ],
   "source": [
    "physician6=Physician(\"Norma\", 400, 10, \"ER\")\n",
    "physician7=Physician(\"Wanda\", 250, 16, \"ER2\")"
   ]
  },
  {
   "cell_type": "code",
   "execution_count": 50,
   "metadata": {},
   "outputs": [
    {
     "name": "stdout",
     "output_type": "stream",
     "text": [
      "Current Physicians:\n",
      "--------------------\n",
      "Name: Dr. Sally\n",
      "Hourly salary: 350\n",
      "Department: Oncology\n",
      "--------------------\n",
      "Name: Dr. Bob\n",
      "Hourly salary: 275\n",
      "Department: Psychiatry\n",
      "--------------------\n",
      "Name: Dr. Sam\n",
      "Hourly salary: 400\n",
      "Department: Dermatology\n",
      "--------------------\n",
      "Name: Dr. Jeremy\n",
      "Hourly salary: 345\n",
      "Department: Pediactrics\n",
      "--------------------\n",
      "Name: Dr. Brittany\n",
      "Hourly salary: 400\n",
      "Department: Oncology2\n",
      "--------------------\n",
      "Name: Dr. Norma\n",
      "Hourly salary: 400\n",
      "Department: ER\n",
      "--------------------\n",
      "Name: Dr. Wanda\n",
      "Hourly salary: 250\n",
      "Department: ER2\n",
      "--------------------\n"
     ]
    }
   ],
   "source": [
    "physician1.displayPhysicians()"
   ]
  },
  {
   "cell_type": "code",
   "execution_count": 51,
   "metadata": {},
   "outputs": [
    {
     "name": "stdout",
     "output_type": "stream",
     "text": [
      "There are 7 physicans currently working at this hospital\n"
     ]
    }
   ],
   "source": [
    "physician2.physicianCount()"
   ]
  },
  {
   "cell_type": "code",
   "execution_count": 52,
   "metadata": {},
   "outputs": [
    {
     "name": "stdout",
     "output_type": "stream",
     "text": [
      "Wednesday on call doctor: ('Sam', 400, 6, 'Dermatology')\n",
      "Friday on call doctor: ('Brittany', 400, 7, 'Oncology2')\n",
      "Thursday on call doctor: ('Bob', 275, 2, 'Psychiatry')\n",
      "Sunday on call doctor: ('Norma', 400, 10, 'ER')\n",
      "Monday on call doctor: ('Wanda', 250, 16, 'ER2')\n",
      "Tuesday on call doctor: ('Sally', 350, 1, 'Oncology')\n",
      "Saturday on call doctor: ('Jeremy', 345, 15, 'Pediactrics')\n"
     ]
    }
   ],
   "source": [
    "\n",
    "physician2.oncallschedule()"
   ]
  },
  {
   "cell_type": "code",
   "execution_count": 53,
   "metadata": {},
   "outputs": [
    {
     "name": "stdout",
     "output_type": "stream",
     "text": [
      "Wandas Christmas bonus is 2000 $\n"
     ]
    }
   ],
   "source": [
    "physician7.christmasBonus()"
   ]
  },
  {
   "cell_type": "code",
   "execution_count": 54,
   "metadata": {},
   "outputs": [
    {
     "name": "stdout",
     "output_type": "stream",
     "text": [
      "[2, 4, 1, 5, 3, 0, 6]\n",
      "{'Sally': 2, 'Bob': 4, 'Sam': 1, 'Jeremy': 5, 'Brittany': 3, 'Norma': 0, 'Wanda': 6}\n",
      "Physician vacation time will be granted in this order:\n",
      "Norma 0\n",
      "Sam 1\n",
      "Sally 2\n",
      "Brittany 3\n",
      "Bob 4\n",
      "Jeremy 5\n",
      "Wanda 6\n"
     ]
    }
   ],
   "source": [
    "physician2.vactionTimePriority()"
   ]
  },
  {
   "cell_type": "code",
   "execution_count": 57,
   "metadata": {},
   "outputs": [],
   "source": [
    "\n",
    "import random\n",
    "class Nurse(Member):\n",
    "    nurseList = []\n",
    "    def __init__(self, name, hourly_wage, years_emplyed, monthly_Hours):\n",
    "        Member.__init__(self, name, hourly_wage, years_emplyed)\n",
    "        \n",
    "        self.monthly_Hours=monthly_Hours\n",
    "       \n",
    "         \n",
    "        nurse = (self.name, self.hourly_wage, self.monthly_Hours)\n",
    "        Nurse.nurseList.append(nurse)\n",
    "       \n",
    "              \n",
    "              \n",
    "    def display(self):\n",
    "        Member.display(self)\n",
    "        print('Hours Worked in a month:{} '.format(self.monthly_Hours))\n",
    "        \n",
    "    def christmasBonus(self):\n",
    "        Member.christmasBonus(self)\n",
    "    \n",
    "    def AverageDailyHours(self, month):\n",
    "        \n",
    "        month1=month.lower()\n",
    "        \n",
    "        if (month1=='january' or 'march' or 'may' or 'july' or 'august' or 'october' or 'december'):\n",
    "            av_d_hours31 = self.monthly_Hours/31\n",
    "            \n",
    "            print('{} averages {} daily hours of work'.format(self.name,av_d_hours31))\n",
    "        elif (month=='april'or 'june' or 'september' or 'november'):\n",
    "            \n",
    "            av_d_hours30=self.monthly_Hours/30\n",
    "            print('{} averages {} daily hours of work'.format(self.name,av_d_hours30))\n",
    "        else:\n",
    "            av_d_hours28=self.monthly_Hours/28\n",
    "            print('{} averages {} daily hours of work'.format(self.name,av_d_hours28))\n",
    "        \n",
    "        \n",
    "    def over_time_pay_monthly(self, overtime_hours):\n",
    "        \n",
    "        if self.monthly_Hours>100:\n",
    "        \n",
    "            monthly_pay=self.monthly_Hours*self.hourly_wage+overtime_hours*(self.hourly_wage*1.5)\n",
    "        \n",
    "        \n",
    "            print('{} worked {} overtime hours and take home monthly pay with overtime pay is {}'.format(self.name,overtime_hours, monthly_pay ))\n",
    "        \n",
    "        else:\n",
    "            print('{} does not qualify for overtime pay'.format(self.name))\n",
    "    \n",
    "    \n",
    "    def nurseSheduling(self, num_open_floors):\n",
    "        floornum = num_open_floors\n",
    "        \n",
    "        nursenum = len(Nurse.nurseList)\n",
    "        \n",
    "        nurses_available = [i for i in range(nursenum)]\n",
    "\n",
    "        for i in range(nursenum):\n",
    "            group = i % floornum\n",
    "            nurse = random.choice(nurses_available)\n",
    "            nurses_available.remove(nurse)\n",
    "            print('Nurse {} assigned to floor {}'.format(nurse, group))\n",
    "            \n",
    "        for nurse in range(len(Nurse.nurseList)):\n",
    "            \n",
    "            \n",
    "            print('Nurse {} is {}'.format(nurse,Nurse.nurseList[nurse][0]))\n",
    "            \n",
    "\n",
    "            "
   ]
  },
  {
   "cell_type": "code",
   "execution_count": 58,
   "metadata": {},
   "outputs": [
    {
     "name": "stdout",
     "output_type": "stream",
     "text": [
      "(Hospital Member: Tammy)\n",
      "(Hospital Member: sam)\n",
      "(Hospital Member: joelle)\n",
      "(Hospital Member: brit)\n",
      "(Hospital Member: fran)\n",
      "(Hospital Member: hillary)\n"
     ]
    }
   ],
   "source": [
    "nurse0= Nurse(\"Tammy\", 37,3, 250 )\n",
    "nurse1= Nurse(\"sam\", 46, 6, 300)\n",
    "nurse2= Nurse(\"joelle\", 56,10, 80)\n",
    "nurse3= Nurse(\"brit\", 70, 15,200)\n",
    "nurse4= Nurse(\"fran\", 27, 20,178)\n",
    "nurse5= Nurse(\"hillary\", 40,0.5, 234)"
   ]
  },
  {
   "cell_type": "code",
   "execution_count": 59,
   "metadata": {},
   "outputs": [
    {
     "name": "stdout",
     "output_type": "stream",
     "text": [
      "joelle averages 2.5806451612903225 daily hours of work\n"
     ]
    }
   ],
   "source": [
    "nurse2.AverageDailyHours(\"JAN\")"
   ]
  },
  {
   "cell_type": "code",
   "execution_count": 60,
   "metadata": {},
   "outputs": [
    {
     "name": "stdout",
     "output_type": "stream",
     "text": [
      "fran averages 5.741935483870968 daily hours of work\n"
     ]
    }
   ],
   "source": [
    "nurse4.AverageDailyHours(\"June\")"
   ]
  },
  {
   "cell_type": "code",
   "execution_count": null,
   "metadata": {},
   "outputs": [],
   "source": []
  },
  {
   "cell_type": "code",
   "execution_count": 98,
   "metadata": {},
   "outputs": [
    {
     "name": "stdout",
     "output_type": "stream",
     "text": [
      "joelle averages 2.5806451612903225 daily hours of work\n"
     ]
    }
   ],
   "source": [
    "nurse2.AverageDailyHours(\"JAN\")"
   ]
  },
  {
   "cell_type": "code",
   "execution_count": 99,
   "metadata": {},
   "outputs": [
    {
     "name": "stdout",
     "output_type": "stream",
     "text": [
      "fran averages 5.741935483870968 daily hours of work\n"
     ]
    }
   ],
   "source": [
    "\n",
    "\n",
    "nurse4.AverageDailyHours(\"June\")\n",
    "\n"
   ]
  },
  {
   "cell_type": "code",
   "execution_count": 61,
   "metadata": {},
   "outputs": [
    {
     "name": "stdout",
     "output_type": "stream",
     "text": [
      "joelle does not qualify for overtime pay\n"
     ]
    }
   ],
   "source": [
    "nurse2.over_time_pay_monthly(20)"
   ]
  },
  {
   "cell_type": "code",
   "execution_count": 63,
   "metadata": {},
   "outputs": [
    {
     "name": "stdout",
     "output_type": "stream",
     "text": [
      "joelles Christmas bonus is 2000 $\n"
     ]
    }
   ],
   "source": [
    "nurse2.christmasBonus()"
   ]
  },
  {
   "cell_type": "code",
   "execution_count": 65,
   "metadata": {},
   "outputs": [
    {
     "name": "stdout",
     "output_type": "stream",
     "text": [
      "(Hospital Member: samuel)\n"
     ]
    }
   ],
   "source": [
    "nurse6=Nurse(\"samuel\", 48, 5, 300)"
   ]
  },
  {
   "cell_type": "code",
   "execution_count": 66,
   "metadata": {},
   "outputs": [
    {
     "name": "stdout",
     "output_type": "stream",
     "text": [
      "Name: samuel, Hourly wage: 48\n",
      "Hours Worked in a month:300 \n"
     ]
    }
   ],
   "source": [
    "nurse6.display()"
   ]
  },
  {
   "cell_type": "code",
   "execution_count": 67,
   "metadata": {},
   "outputs": [
    {
     "name": "stdout",
     "output_type": "stream",
     "text": [
      "Nurse 1 assigned to floor 0\n",
      "Nurse 4 assigned to floor 1\n",
      "Nurse 3 assigned to floor 2\n",
      "Nurse 6 assigned to floor 3\n",
      "Nurse 0 assigned to floor 0\n",
      "Nurse 2 assigned to floor 1\n",
      "Nurse 5 assigned to floor 2\n",
      "Nurse 0 is Tammy\n",
      "Nurse 1 is sam\n",
      "Nurse 2 is joelle\n",
      "Nurse 3 is brit\n",
      "Nurse 4 is fran\n",
      "Nurse 5 is hillary\n",
      "Nurse 6 is samuel\n"
     ]
    }
   ],
   "source": [
    "nurse6.nurseSheduling(4)"
   ]
  },
  {
   "cell_type": "code",
   "execution_count": 68,
   "metadata": {},
   "outputs": [
    {
     "name": "stdout",
     "output_type": "stream",
     "text": [
      "samuels Christmas bonus is 2000 $\n"
     ]
    }
   ],
   "source": [
    "nurse6.christmasBonus()"
   ]
  },
  {
   "cell_type": "code",
   "execution_count": 69,
   "metadata": {},
   "outputs": [
    {
     "name": "stdout",
     "output_type": "stream",
     "text": [
      "hillarys Christmas bonus is 500 $\n"
     ]
    }
   ],
   "source": [
    "nurse5.christmasBonus()"
   ]
  },
  {
   "cell_type": "code",
   "execution_count": 70,
   "metadata": {},
   "outputs": [
    {
     "name": "stdout",
     "output_type": "stream",
     "text": [
      "sams Christmas bonus is 1000 $\n"
     ]
    }
   ],
   "source": [
    "nurse1.christmasBonus()"
   ]
  },
  {
   "cell_type": "code",
   "execution_count": null,
   "metadata": {},
   "outputs": [],
   "source": []
  }
 ],
 "metadata": {
  "kernelspec": {
   "display_name": "Python 3",
   "language": "python",
   "name": "python3"
  },
  "language_info": {
   "codemirror_mode": {
    "name": "ipython",
    "version": 3
   },
   "file_extension": ".py",
   "mimetype": "text/x-python",
   "name": "python",
   "nbconvert_exporter": "python",
   "pygments_lexer": "ipython3",
   "version": "3.8.3"
  }
 },
 "nbformat": 4,
 "nbformat_minor": 4
}

{
 "metadata": {
  "language_info": {
   "codemirror_mode": {
    "name": "ipython",
    "version": 3
   },
   "file_extension": ".py",
   "mimetype": "text/x-python",
   "name": "python",
   "nbconvert_exporter": "python",
   "pygments_lexer": "ipython3",
   "version": "3.8.3-final"
  },
  "orig_nbformat": 2,
  "kernelspec": {
   "name": "python3",
   "display_name": "Python 3"
  }
 },
 "nbformat": 4,
 "nbformat_minor": 2,
 "cells": [
  {
   "cell_type": "code",
   "execution_count": 1,
   "metadata": {},
   "outputs": [],
   "source": [
    "class Patient:\n",
    "    count = 0\n",
    "    patientsList = list()\n",
    "    \n",
    "    def __init__(self, name, age, service, listUnderlyingCond = None):\n",
    "        self.name = name\n",
    "        self.age = age\n",
    "        self.service = service\n",
    "        self.listUnderlyingCond = listUnderlyingCond\n",
    "        Patient.count +=1\n",
    "        tmp = (self.name, self.age, self.service)\n",
    "        Patient.patientsList.append(tmp)\n",
    "    \n",
    "    def displayPatient(self):\n",
    "        print('Patient name:', self.name,'\\nAge:',self.age,'\\nService:',self.service,'\\n')\n",
    "    \n",
    "    def displayCount(self):\n",
    "        print(\"Current patient count:\",Patient.count)\n",
    "   \n",
    "    def totalPatientCost(self, listProcedures, sumCost=0, sumProcedureCost=0, sumBaseCost=0, sumTotalCost=0):\n",
    "        summaryList = {}\n",
    "        totalSummaryList = {}\n",
    "        for row in listProcedures:\n",
    "            tmpStaffCost = row.expectedTotalProcedureCost(self) - row.baseProcedureCost\n",
    "            tmpList = (row.baseProcedureCost,tmpStaffCost,row.expectedTotalProcedureCost(self))\n",
    "            summaryList[row.procedure_name] = tmpList\n",
    "            sumProcedureCost+=row.baseProcedureCost\n",
    "            sumBaseCost += tmpStaffCost\n",
    "            sumTotalCost+=row.expectedTotalProcedureCost(self)\n",
    "        totalSummaryList['Total cost:'] = (sumProcedureCost, sumBaseCost, sumTotalCost)\n",
    "            \n",
    "        print(\"Procedure:\\tBase procedure cost:\\tStaffing cost:\\tTotal cost:\")\n",
    "        print(\"----------\\t--------------------\\t--------------\\t-----------\")\n",
    "        for key in summaryList:\n",
    "           # print(\"Procedure: \",key,\"\\tBase procedure cost: \",summaryList[key][0],\"\\tStaffing cost: \",summaryList[key][1],\"\\tTotal cost: \",summaryList[key][2],sep='')\n",
    "            print(key,\"\\t\",summaryList[key][0],\"\\t\\t\\t\",summaryList[key][1],\"\\t\\t\",summaryList[key][2],sep='')\n",
    "        print(\"----------\\t--------------------\\t--------------\\t-----------\")\n",
    "        for key in totalSummaryList:\n",
    "            print(key,\"\\t\",totalSummaryList[key][0],\"\\t\\t\\t\",totalSummaryList[key][1],\"\\t\\t\",totalSummaryList[key][2],sep='')\n",
    "\n",
    "    def diplayPatientsList(self):\n",
    "        print(\"List of patients:\")\n",
    "        print(\"--------------------\")\n",
    "        for row in Patient.patientsList:\n",
    "            print('Name:',row[0])\n",
    "            print('Age:',row[1])\n",
    "            print('Service:',row[2])\n",
    "            print(\"--------------------\")    \n",
    "\n",
    "\n"
   ]
  },
  {
   "cell_type": "code",
   "execution_count": 4,
   "metadata": {},
   "outputs": [],
   "source": [
    "Procedure1 = Procedure('Surgery1',3,10000,120)\n",
    "Procedure2 = Procedure('Surgery2',3,20000,240)\n",
    "listProcedures = (Procedure1, Procedure2)"
   ]
  },
  {
   "cell_type": "code",
   "execution_count": 5,
   "metadata": {},
   "outputs": [
    {
     "output_type": "stream",
     "name": "stdout",
     "text": [
      "Procedure:\tBase procedure cost:\tStaffing cost:\tTotal cost:\n----------\t--------------------\t--------------\t-----------\nSurgery1\t10000\t\t\t1152.0\t\t11152.0\nSurgery2\t20000\t\t\t2304.0\t\t22304.0\n----------\t--------------------\t--------------\t-----------\nTotal cost:\t30000\t\t\t3456.0\t\t33456.0\n"
     ]
    }
   ],
   "source": [
    "Patient1 = Patient(\"Andres\", 34, 'Broken leg')\n",
    "Patient1.totalPatientCost(listProcedures)"
   ]
  },
  {
   "cell_type": "code",
   "execution_count": 119,
   "metadata": {},
   "outputs": [
    {
     "output_type": "stream",
     "name": "stdout",
     "text": [
      "Patient name: Andres \nAge: 34 \nService: Broken leg \n\nList of patients:\n--------------------\nName: Andres\nAge: 34\nService: Broken leg\n--------------------\nName: Therrie\nAge: 28\nService: Matunity\n--------------------\nName: Joy\nAge: 45\nService: Pneunomia\n--------------------\nName: Savanah\nAge: 32\nService: Lung transplant\n--------------------\nName: Isabelle\nAge: 78\nService: Heart Attack\n--------------------\n"
     ]
    }
   ],
   "source": [
    "##testing functions\n",
    "Patient1 = Patient(\"Andres\", 34, 'Broken leg')\n",
    "Patient2 = Patient(\"Therrie\", 28, 'Matunity')\n",
    "Patient3 = Patient(\"Joy\", 45, 'Pneunomia')\n",
    "Patient4 = Patient(\"Savanah\", 32, 'Lung transplant')\n",
    "Patient5 = Patient(\"Isabelle\", 78, 'Heart Attack')\n",
    "Patient1.displayPatient()\n",
    "Patient1.diplayPatientsList()"
   ]
  },
  {
   "cell_type": "code",
   "execution_count": 3,
   "metadata": {},
   "outputs": [],
   "source": [
    "class Procedure:\n",
    "    proceduresList = list()\n",
    "    #ProcedureFrequency= {'hourly':1,'daily':24,'weekly':7*24,'Monthly':30*24,'Annual':365.25*24}\n",
    "\n",
    "    def __init__(self, procedure_name, procedureRF = None, baseProcedureCost = 0, avglengthOfCare = 1):\n",
    "        self.procedure_name = procedure_name\n",
    "        self.procedureRF = procedureRF\n",
    "        self.baseProcedureCost = baseProcedureCost\n",
    "        self.avglengthOfCare = avglengthOfCare\n",
    "        tmpP = (self.procedure_name, self.procedureRF)\n",
    "        Procedure.proceduresList.append(tmpP)\n",
    "    \n",
    "    '''\n",
    "    Determine the riskFactor (rF) for a procedure based of age, underlying conditions and the default risk associate with the procdure. The range of value for rF is 0 to 10, 0 being no risk and 10 being high risk.\n",
    "\n",
    "    Age:\n",
    "    Less than 4: rF = 3\n",
    "    Less than 12: rF = 2\n",
    "    Bwt 12 & 30: rF = 0\n",
    "    Bwt 30 & 50: rF = 1\n",
    "    Bwt 50 & 70: rF = 2\n",
    "    Bwt 70 & 80: rF = 3\n",
    "    Bwt 80 & 90: rF = 4\n",
    "    Greater than 90: rF = 5\n",
    "\n",
    "    Underlying Conditions (list):\n",
    "    Add one rF for each underlying condition for a max rF of 3.\n",
    "\n",
    "    Precedual Risk:\n",
    "    Add the base risk for a procedure to the rF.\n",
    "\n",
    "    Limit the total rF to 10.\n",
    "    '''\n",
    "    def indProcedureRisk(self, PatientX):\n",
    "        tmpRF=0\n",
    "        age = PatientX.age\n",
    "        underlyingCond = PatientX.listUnderlyingCond\n",
    "        if self.procedureRF != None:\n",
    "            if age > 12 and age < 80: riskFactor = (age-10)//20\n",
    "            elif age > 80: \n",
    "                riskFactor = 4\n",
    "                if age > 90: riskFactor = 5\n",
    "            elif age > 3: riskFactor = 5\n",
    "            else: riskFactor = 3\n",
    "            if underlyingCond != None: \n",
    "                for row in underlyingCond: tmpRF+=1\n",
    "                if tmpRF > 3: tmpRK=3\n",
    "            riskFactor+=tmpRF\n",
    "            riskFactor+=self.procedureRF\n",
    "\n",
    "            if riskFactor > 10: f=10\n",
    "            return riskFactor\n",
    "           # print(\"The risk factor for a\",self.procedure_name,\"is\",riskFactor,\".\")\n",
    "\n",
    "    def expectedTotalProcedureCost(self, PatientY):\n",
    "        avgNurseSalary = 40\n",
    "        avgNursePatientRatio = 1/5\n",
    "        avgPhysicianSalary = 80\n",
    "        avgPhysicianPatientRatio = 1/20\n",
    "\n",
    "        riskFactorProc = int(self.indProcedureRisk(PatientY))\n",
    "\n",
    "        if riskFactorProc > 8:\n",
    "            print(\"Procedure risk is too high. Procedure will not proceed.\")\n",
    "        elif riskFactorProc > 6: avgLengthOfCareFactor = 2\n",
    "        elif riskFactorProc > 4: avgLengthOfCareFactor = 1\n",
    "        elif riskFactorProc > 2: avgLengthOfCareFactor = 0.8\n",
    "        else: avgLengthOfCareFactor = 0.6\n",
    "\n",
    "        totalProcedureCost = self.baseProcedureCost + self.avglengthOfCare*     (avgNursePatientRatio*avgNurseSalary + avgPhysicianPatientRatio*avgPhysicianSalary)*avgLengthOfCareFactor\n",
    "\n",
    "        return totalProcedureCost\n",
    "\n",
    "    def diplayProcedureList(self):\n",
    "        print(\"List of procedures:\")\n",
    "        print(\"--------------------\")\n",
    "        for row in Procedure.proceduresList:\n",
    "            print('Procedure name:',row[0])\n",
    "            print('Risk factor:',row[1])\n",
    "            print(\"--------------------\")\n",
    "    \n",
    "    def displayProcedure(self):\n",
    "        print('Procedure name:', self.procedure_name,'\\nBase procedure risk:',self.procedureRF,'\\nBase procedure cost:',self.baseProcedureCost,'\\nAverage length of care:',self.avglengthOfCare,'\\n')"
   ]
  },
  {
   "cell_type": "code",
   "execution_count": 183,
   "metadata": {},
   "outputs": [
    {
     "output_type": "execute_result",
     "data": {
      "text/plain": [
       "22304.0"
      ]
     },
     "metadata": {},
     "execution_count": 183
    }
   ],
   "source": [
    "Procedure1 = Procedure('Surgery1',3,10000,120)\n",
    "Procedure2 = Procedure('Surgery2',3,20000,240)\n",
    "#Procedure1.displayProcedure()\n",
    "Procedure1.expectedTotalProcedureCost(Patient1)\n",
    "Procedure2.expectedTotalProcedureCost(Patient1)\n",
    "#Procedure1.diplayProcedureList()\n",
    "#P1UnderCond = ('immune suppressed','Cancer')\n",
    "#Procedure1.indProcedureRisk(50,P1UnderCond)"
   ]
  },
  {
   "cell_type": "code",
   "execution_count": 184,
   "metadata": {},
   "outputs": [],
   "source": [
    "listProcedures = (Procedure1, Procedure2)"
   ]
  },
  {
   "cell_type": "code",
   "execution_count": null,
   "metadata": {},
   "outputs": [],
   "source": []
  },
  {
   "cell_type": "code",
   "execution_count": null,
   "metadata": {},
   "outputs": [],
   "source": []
  }
 ]
}
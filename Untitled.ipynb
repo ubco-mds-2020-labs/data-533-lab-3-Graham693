{
 "cells": [
  {
   "cell_type": "code",
   "execution_count": 1,
   "metadata": {},
   "outputs": [],
   "source": [
    "import hospital.hospital_management.member\n",
    "import hospital.hospital_management.nurse as Nurse\n",
    "import hospital.hospital_management.physician as p\n",
    "\n"
   ]
  },
  {
   "cell_type": "code",
   "execution_count": 2,
   "metadata": {},
   "outputs": [
    {
     "name": "stdout",
     "output_type": "stream",
     "text": [
      "(Hospital Member: Sally)\n",
      "(Hospital Member: Bob)\n",
      "(Hospital Member: Sam)\n",
      "(Hospital Member: Jeremy)\n"
     ]
    }
   ],
   "source": [
    "physician1=p.Physician(\"Sally\", 350,1, \"Oncology\")\n",
    "physician2=p.Physician(\"Bob\", 275, 2, \"Psychiatry\")\n",
    "physician3=p.Physician(\"Sam\", 400,6,  \"Dermatology\")\n",
    "physician4=p.Physician(\"Jeremy\", 345, 15, \"Pediactrics\")\n"
   ]
  },
  {
   "cell_type": "code",
   "execution_count": 3,
   "metadata": {},
   "outputs": [
    {
     "name": "stdout",
     "output_type": "stream",
     "text": [
      "(Hospital Member: Tammy)\n",
      "(Hospital Member: sam)\n",
      "(Hospital Member: joelle)\n",
      "(Hospital Member: brit)\n",
      "(Hospital Member: fran)\n",
      "(Hospital Member: hillary)\n"
     ]
    }
   ],
   "source": [
    "nurse1= Nurse.Nurse(\"Tammy\", 37,3, 250 )\n",
    "nurse2= Nurse.Nurse(\"sam\", 46, 6, 300)\n",
    "nurse3= Nurse.Nurse(\"joelle\", 56,10, 80)\n",
    "nurse4= Nurse.Nurse(\"brit\", 70, 15,200)\n",
    "nurse5= Nurse.Nurse(\"fran\", 27, 20,178)\n",
    "nurse5= Nurse.Nurse(\"hillary\", 40,0.5, 234)\n"
   ]
  },
  {
   "cell_type": "code",
   "execution_count": null,
   "metadata": {},
   "outputs": [],
   "source": []
  }
 ],
 "metadata": {
  "kernelspec": {
   "display_name": "Python 3",
   "language": "python",
   "name": "python3"
  },
  "language_info": {
   "codemirror_mode": {
    "name": "ipython",
    "version": 3
   },
   "file_extension": ".py",
   "mimetype": "text/x-python",
   "name": "python",
   "nbconvert_exporter": "python",
   "pygments_lexer": "ipython3",
   "version": "3.8.3"
  }
 },
 "nbformat": 4,
 "nbformat_minor": 4
}

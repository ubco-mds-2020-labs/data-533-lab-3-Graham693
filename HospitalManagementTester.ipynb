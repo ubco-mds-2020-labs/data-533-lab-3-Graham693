{
 "cells": [
  {
   "cell_type": "code",
   "execution_count": 1,
   "metadata": {},
   "outputs": [],
   "source": [
    "import hospital.hospital_management.member "
   ]
  },
  {
   "cell_type": "code",
   "execution_count": 2,
   "metadata": {},
   "outputs": [],
   "source": [
    "import hospital.hospital_management.nurse as Nurse"
   ]
  },
  {
   "cell_type": "code",
   "execution_count": 5,
   "metadata": {},
   "outputs": [
    {
     "name": "stdout",
     "output_type": "stream",
     "text": [
      "(Hospital Member: sam)\n"
     ]
    }
   ],
   "source": [
    "mem1=Member(\"sam\", 35, 8)"
   ]
  },
  {
   "cell_type": "code",
   "execution_count": 1,
   "metadata": {},
   "outputs": [],
   "source": []
  },
  {
   "cell_type": "code",
   "execution_count": 8,
   "metadata": {},
   "outputs": [
    {
     "name": "stdout",
     "output_type": "stream",
     "text": [
      "(Hospital Member: Tammy)\n",
      "(Hospital Member: sam)\n",
      "(Hospital Member: joelle)\n",
      "(Hospital Member: brit)\n",
      "(Hospital Member: fran)\n",
      "(Hospital Member: hillary)\n"
     ]
    }
   ],
   "source": [
    "nurse0= Nurse.Nurse(\"Tammy\", 37,3, 250 )\n",
    "nurse1= Nurse.Nurse(\"sam\", 46, 6, 300)\n",
    "nurse2= Nurse.Nurse(\"joelle\", 56,10, 80)\n",
    "nurse3= Nurse.Nurse(\"brit\", 70, 15,200)\n",
    "nurse4= Nurse.Nurse(\"fran\", 27, 20,178)\n",
    "nurse5= Nurse.Nurse(\"hillary\", 40,0.5, 234)"
   ]
  },
  {
   "cell_type": "code",
   "execution_count": 9,
   "metadata": {},
   "outputs": [
    {
     "name": "stdout",
     "output_type": "stream",
     "text": [
      "Name: brit, Hourly wage: 70\n",
      "Hours Worked in a month:200 \n"
     ]
    }
   ],
   "source": [
    "\n",
    "\n",
    "\n",
    "nurse3.display()"
   ]
  },
  {
   "cell_type": "code",
   "execution_count": 4,
   "metadata": {},
   "outputs": [],
   "source": [
    "import hospital.hospital_management.physician as p"
   ]
  },
  {
   "cell_type": "code",
   "execution_count": 5,
   "metadata": {},
   "outputs": [
    {
     "name": "stdout",
     "output_type": "stream",
     "text": [
      "(Hospital Member: Sally)\n",
      "(Hospital Member: Bob)\n",
      "(Hospital Member: Sam)\n",
      "(Hospital Member: Jeremy)\n"
     ]
    }
   ],
   "source": [
    "physician1=p.Physician(\"Sally\", 350,1, \"Oncology\")\n",
    "physician2=p.Physician(\"Bob\", 275, 2, \"Psychiatry\")\n",
    "physician3=p.Physician(\"Sam\", 400,6,  \"Dermatology\")\n",
    "physician4=p.Physician(\"Jeremy\", 345, 15, \"Pediactrics\")"
   ]
  },
  {
   "cell_type": "code",
   "execution_count": 6,
   "metadata": {},
   "outputs": [
    {
     "name": "stdout",
     "output_type": "stream",
     "text": [
      "[0, 1, 3, 2]\n",
      "Physician vacation time will be granted in this order:\n",
      "Sally 0\n",
      "Bob 1\n",
      "Jeremy 2\n",
      "Sam 3\n"
     ]
    }
   ],
   "source": [
    "physician4.vactionTimePriority()"
   ]
  },
  {
   "cell_type": "code",
   "execution_count": 8,
   "metadata": {},
   "outputs": [
    {
     "name": "stdout",
     "output_type": "stream",
     "text": [
      "Wednesday on call doctor: ('Sam', 400, 6, 'Dermatology')\n",
      "Friday on call doctor: ('Bob', 275, 2, 'Psychiatry')\n",
      "Tuesday on call doctor: ('Sally', 350, 1, 'Oncology')\n",
      "Monday on call doctor: ('Jeremy', 345, 15, 'Pediactrics')\n",
      "Sunday on call doctor: ('Bob', 275, 2, 'Psychiatry')\n",
      "Saturday on call doctor: ('Jeremy', 345, 15, 'Pediactrics')\n",
      "Thursday on call doctor: ('Sam', 400, 6, 'Dermatology')\n"
     ]
    }
   ],
   "source": [
    "physician4.oncallschedule()"
   ]
  },
  {
   "cell_type": "code",
   "execution_count": 9,
   "metadata": {},
   "outputs": [
    {
     "name": "stdout",
     "output_type": "stream",
     "text": [
      "Current Physicians:\n",
      "--------------------\n",
      "Name: Dr. Sally\n",
      "Hourly salary: 350\n",
      "Department: Oncology\n",
      "--------------------\n",
      "Name: Dr. Bob\n",
      "Hourly salary: 275\n",
      "Department: Psychiatry\n",
      "--------------------\n",
      "Name: Dr. Sam\n",
      "Hourly salary: 400\n",
      "Department: Dermatology\n",
      "--------------------\n",
      "Name: Dr. Jeremy\n",
      "Hourly salary: 345\n",
      "Department: Pediactrics\n",
      "--------------------\n"
     ]
    }
   ],
   "source": [
    "physician2.displayPhysicians()"
   ]
  },
  {
   "cell_type": "code",
   "execution_count": 10,
   "metadata": {},
   "outputs": [
    {
     "name": "stdout",
     "output_type": "stream",
     "text": [
      "(Hospital Member: Tammy)\n",
      "(Hospital Member: sam)\n",
      "(Hospital Member: joelle)\n",
      "(Hospital Member: brit)\n",
      "(Hospital Member: fran)\n",
      "(Hospital Member: hillary)\n"
     ]
    }
   ],
   "source": [
    "nurse1= Nurse.Nurse(\"Tammy\", 37,3, 250 )\n",
    "nurse2= Nurse.Nurse(\"sam\", 46, 6, 300)\n",
    "nurse3= Nurse.Nurse(\"joelle\", 56,10, 80)\n",
    "nurse4= Nurse.Nurse(\"brit\", 70, 15,200)\n",
    "nurse5= Nurse.Nurse(\"fran\", 27, 20,178)\n",
    "nurse5= Nurse.Nurse(\"hillary\", 40,0.5, 234)"
   ]
  },
  {
   "cell_type": "code",
   "execution_count": 11,
   "metadata": {},
   "outputs": [
    {
     "name": "stdout",
     "output_type": "stream",
     "text": [
      "Name: brit, Hourly wage: 70\n",
      "Hours Worked in a month:200 \n"
     ]
    }
   ],
   "source": [
    "nurse4.display()"
   ]
  },
  {
   "cell_type": "code",
   "execution_count": 12,
   "metadata": {},
   "outputs": [
    {
     "name": "stdout",
     "output_type": "stream",
     "text": [
      "sams Christmas bonus is 1000 $\n"
     ]
    }
   ],
   "source": [
    "nurse2.christmasBonus()"
   ]
  },
  {
   "cell_type": "code",
   "execution_count": 13,
   "metadata": {},
   "outputs": [
    {
     "name": "stdout",
     "output_type": "stream",
     "text": [
      "hillary averages 7.548387096774194 daily hours of work\n"
     ]
    }
   ],
   "source": [
    "nurse5.AverageDailyHours(\"june\")"
   ]
  },
  {
   "cell_type": "code",
   "execution_count": null,
   "metadata": {},
   "outputs": [],
   "source": []
  }
 ],
 "metadata": {
  "kernelspec": {
   "display_name": "Python 3",
   "language": "python",
   "name": "python3"
  },
  "language_info": {
   "codemirror_mode": {
    "name": "ipython",
    "version": 3
   },
   "file_extension": ".py",
   "mimetype": "text/x-python",
   "name": "python",
   "nbconvert_exporter": "python",
   "pygments_lexer": "ipython3",
   "version": "3.8.3"
  }
 },
 "nbformat": 4,
 "nbformat_minor": 4
}
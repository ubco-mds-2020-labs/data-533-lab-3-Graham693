{
 "metadata": {
  "language_info": {
   "codemirror_mode": {
    "name": "ipython",
    "version": 3
   },
   "file_extension": ".py",
   "mimetype": "text/x-python",
   "name": "python",
   "nbconvert_exporter": "python",
   "pygments_lexer": "ipython3",
   "version": "3.8.3-final"
  },
  "orig_nbformat": 2,
  "kernelspec": {
   "name": "python3",
   "display_name": "Python 3"
  }
 },
 "nbformat": 4,
 "nbformat_minor": 2,
 "cells": [
  {
   "cell_type": "code",
   "execution_count": 2,
   "metadata": {},
   "outputs": [],
   "source": [
    "class Hospital:\n",
    "    def __init__(self, name, address, staffCount, patientCount):\n",
    "        self.name = name\n",
    "        self.address = address\n",
    "        self.staffCount = staffCount\n",
    "        self.patientCount = patientCount\n",
    "    \n",
    "    def displayStaffCount(self, staffCount):\n",
    "\n",
    "    def displayPatientCount(self, patientCount):"
   ]
  },
  {
   "cell_type": "code",
   "execution_count": 5,
   "metadata": {},
   "outputs": [],
   "source": [
    "class Department(Hospital):\n",
    "    def __init__(self, name, address, staffCount, patientCount, departmentHead):\n",
    "        Hospital.__init__(self, name, address, staffCount, patientCount)\n",
    "        self.departmentHead = departmentHead\n",
    "\n",
    "    def displayDeptStaffCount(self, staffCount):\n",
    "\n",
    "    def displayDeptPatientCount(self, patientCount):"
   ]
  },
  {
   "cell_type": "code",
   "execution_count": 9,
   "metadata": {},
   "outputs": [],
   "source": [
    "class Room(Department):\n",
    "     def __init__(self, name, address, staffCount, patientCount, departmentHead, assignedNurse, roomNumber, roomCapacity):\n",
    "        Department.__init__(self, name, address, staffCount, patientCount, departmentHead)\n",
    "        Hospital.__init__(self, name, address, staffCount) #Is this correct?\n",
    "        self.assignedNurse = assignedNurse\n",
    "        self.roomNumber = roomNumber\n",
    "\n",
    "    def displayRoomStaffCount(self, staffCount):\n",
    "\n",
    "    def displayRoomPatientCount(self, patientCount):\n",
    "\n",
    "    def displayRoomCapacity(self, roomCapacity):"
   ]
  },
  {
   "cell_type": "code",
   "execution_count": 10,
   "metadata": {},
   "outputs": [],
   "source": [
    "class Employee:\n",
    "    def __init__(self, name, phoneNumber, salary): #Should I add title\n",
    "        self.name = name\n",
    "        self.phoneNumber = phoneNumber\n",
    "        self.salary = salary\n",
    "\n",
    "    def displayEmployee(self):\n",
    "        Employee.display(self)\n",
    "    \n",
    "    def changeSalary(self, salary)"
   ]
  },
  {
   "cell_type": "code",
   "execution_count": 11,
   "metadata": {},
   "outputs": [],
   "source": [
    "class Nurse(Employee):\n",
    "    def __init__(self, name, phoneNumber, salary, patients, shiftNumber, roomNumber, overtime):\n",
    "        Employee.__init__(self, name, phoneNumber, salary)\n",
    "        self.patients = patients\n",
    "        self.shiftNumber = shiftNumber\n",
    "        self.roomNumber = roomNumber\n",
    "        self.overtimePay = overtimePay\n",
    "\n",
    "    def addOvertime:\n",
    "        #salary += hours*1.5\n",
    "        #overtime"
   ]
  },
  {
   "cell_type": "code",
   "execution_count": 13,
   "metadata": {},
   "outputs": [],
   "source": [
    "# Patients, shifts are done differently for doctors than it is for nurses\n",
    "\n",
    "class Physician:\n",
    "    def __init__(self, name, phoneNumber, salary, patients, shiftNumber):\n",
    "        Employee.__init__(self, name, phoneNumber, salary)\n",
    "        self.patients = patients\n",
    "        self.shiftNumber = shiftNumber"
   ]
  },
  {
   "cell_type": "code",
   "execution_count": 14,
   "metadata": {},
   "outputs": [],
   "source": [
    "class Specialist:\n",
    "    def __init__(self, name, phoneNumber, salary, patients, specialty):\n",
    "        Employee.__init__(self, name, phoneNumber, salary)\n",
    "        self.patients = patients\n",
    "        self.specialty = specialty"
   ]
  },
  {
   "cell_type": "code",
   "execution_count": null,
   "metadata": {},
   "outputs": [],
   "source": [
    "class Residents:\n",
    "    def __init__(self, name, phoneNumber, salary, patients, shiftNumber):\n",
    "        Employee.__init__(self, name, phoneNumber, salary)\n",
    "        self.patients = patients\n",
    "        self.shiftNumber = shiftNumber"
   ]
  },
  {
   "cell_type": "code",
   "execution_count": null,
   "metadata": {},
   "outputs": [],
   "source": [
    "# Service is defined as the treatment that a patient is receiving\n",
    "\n",
    "class Patient:\n",
    "    def __init__(self, name, Service, roomNumber, Condition): #Check that Service doesn't encompase Condition\n",
    "        self.name = name\n",
    "        self.Service = Service\n",
    "        self.roomNumber = roomNumber\n",
    "        self.Condition = Condition\n",
    "        self.phoneNumber = phoneNumber"
   ]
  },
  {
   "cell_type": "code",
   "execution_count": null,
   "metadata": {},
   "outputs": [],
   "source": [
    "class Service: #Remove?????\n",
    "    def __init__(self, name, medication)"
   ]
  }
 ]
}
{
 "cells": [
  {
   "cell_type": "code",
   "execution_count": 1,
   "metadata": {},
   "outputs": [
    {
     "output_type": "error",
     "ename": "ModuleNotFoundError",
     "evalue": "No module named 'hospital.hospital_management.member'",
     "traceback": [
      "\u001b[1;31m---------------------------------------------------------------------------\u001b[0m",
      "\u001b[1;31mModuleNotFoundError\u001b[0m                       Traceback (most recent call last)",
      "\u001b[1;32m<ipython-input-1-d530a4df1337>\u001b[0m in \u001b[0;36m<module>\u001b[1;34m\u001b[0m\n\u001b[1;32m----> 1\u001b[1;33m \u001b[1;32mimport\u001b[0m \u001b[0mhospital\u001b[0m\u001b[1;33m.\u001b[0m\u001b[0mhospital_management\u001b[0m\u001b[1;33m.\u001b[0m\u001b[0mmember\u001b[0m\u001b[1;33m\u001b[0m\u001b[1;33m\u001b[0m\u001b[0m\n\u001b[0m\u001b[0;32m      2\u001b[0m \u001b[1;32mimport\u001b[0m \u001b[0mhospital\u001b[0m\u001b[1;33m.\u001b[0m\u001b[0mhospital_management\u001b[0m\u001b[1;33m.\u001b[0m\u001b[0mnurse\u001b[0m \u001b[1;32mas\u001b[0m \u001b[0mn\u001b[0m\u001b[1;33m\u001b[0m\u001b[1;33m\u001b[0m\u001b[0m\n\u001b[0;32m      3\u001b[0m \u001b[1;32mimport\u001b[0m \u001b[0mhospital\u001b[0m\u001b[1;33m.\u001b[0m\u001b[0mhospital_management\u001b[0m\u001b[1;33m.\u001b[0m\u001b[0mphysician\u001b[0m \u001b[1;32mas\u001b[0m \u001b[0mp\u001b[0m\u001b[1;33m\u001b[0m\u001b[1;33m\u001b[0m\u001b[0m\n",
      "\u001b[1;31mModuleNotFoundError\u001b[0m: No module named 'hospital.hospital_management.member'"
     ]
    }
   ],
   "source": [
    "import hospital.hospital_management.member\n",
    "import hospital.hospital_management.nurse as n\n",
    "import hospital.hospital_management.physician as p"
   ]
  },
  {
   "cell_type": "code",
   "execution_count": 2,
   "metadata": {},
   "outputs": [
    {
     "name": "stdout",
     "output_type": "stream",
     "text": [
      "(Hospital Member: Sally)\n",
      "(Hospital Member: Jimmy)\n",
      "(Hospital Member: Tony)\n",
      "(Hospital Member: Sophia)\n"
     ]
    }
   ],
   "source": [
    "##initilize physcians\n",
    "physician1=p.Physician(\"Sally\", 350, 5.5, \"Cardiology\")\n",
    "physician2=p.Physician(\"Jimmy\", 200, 0.5, \"Oncology\")\n",
    "physician3=p.Physician(\"Tony\", 227.8, 1, \"Pediactrics\")\n",
    "physician4=p.Physician(\"Sophia\", 250, 15, \"Emergency\")"
   ]
  },
  {
   "cell_type": "code",
   "execution_count": 3,
   "metadata": {},
   "outputs": [
    {
     "name": "stdout",
     "output_type": "stream",
     "text": [
      "Name: Sally, Hourly wage: 350\n",
      "Physican Department: Cardiology\n"
     ]
    }
   ],
   "source": [
    "physician1.display()"
   ]
  },
  {
   "cell_type": "code",
   "execution_count": 4,
   "metadata": {},
   "outputs": [
    {
     "name": "stdout",
     "output_type": "stream",
     "text": [
      "Name: Tony, Hourly wage: 227.8\n",
      "Physican Department: Pediactrics\n"
     ]
    }
   ],
   "source": [
    "physician3.display()"
   ]
  },
  {
   "cell_type": "code",
   "execution_count": 5,
   "metadata": {},
   "outputs": [
    {
     "name": "stdout",
     "output_type": "stream",
     "text": [
      "Tonys Christmas bonus is 500 $\n"
     ]
    }
   ],
   "source": [
    "physician3.christmasBonus()"
   ]
  },
  {
   "cell_type": "code",
   "execution_count": 6,
   "metadata": {},
   "outputs": [
    {
     "name": "stdout",
     "output_type": "stream",
     "text": [
      "Sophias Christmas bonus is 2000 $\n"
     ]
    }
   ],
   "source": [
    "physician4.christmasBonus()"
   ]
  },
  {
   "cell_type": "code",
   "execution_count": 7,
   "metadata": {},
   "outputs": [
    {
     "name": "stdout",
     "output_type": "stream",
     "text": [
      "There are 4 physicans currently working at this hospital\n"
     ]
    }
   ],
   "source": [
    "## count number of physicians\n",
    "\n",
    "physician1.physicianCount()"
   ]
  },
  {
   "cell_type": "code",
   "execution_count": 8,
   "metadata": {},
   "outputs": [
    {
     "name": "stdout",
     "output_type": "stream",
     "text": [
      "Current Physicians:\n",
      "--------------------\n",
      "Name: Dr. Sally\n",
      "Hourly salary: 350\n",
      "Department: Cardiology\n",
      "--------------------\n",
      "Name: Dr. Jimmy\n",
      "Hourly salary: 200\n",
      "Department: Oncology\n",
      "--------------------\n",
      "Name: Dr. Tony\n",
      "Hourly salary: 227.8\n",
      "Department: Pediactrics\n",
      "--------------------\n",
      "Name: Dr. Sophia\n",
      "Hourly salary: 250\n",
      "Department: Emergency\n",
      "--------------------\n"
     ]
    }
   ],
   "source": [
    "##display all physicians in a list\n",
    "\n",
    "physician4.displayPhysicians()"
   ]
  },
  {
   "cell_type": "code",
   "execution_count": 11,
   "metadata": {},
   "outputs": [
    {
     "name": "stdout",
     "output_type": "stream",
     "text": [
      "Yearly take home pay for Dr. Sally is 655200.0 after taxes\n",
      "Yearly take home pay for Dr. Jimmy is 395200.0 after taxes\n",
      "Yearly take home pay for Dr. Tony is 450132.8 after taxes\n",
      "Yearly take home pay for Dr. Sophia is 494000.0 after taxes\n"
     ]
    }
   ],
   "source": [
    "##yearly salaries working 40 hours per week\n",
    "\n",
    "physician1.yearlySalary(40)\n",
    "physician2.yearlySalary(40)\n",
    "physician3.yearlySalary(40)\n",
    "physician4.yearlySalary(40)"
   ]
  },
  {
   "cell_type": "code",
   "execution_count": 14,
   "metadata": {},
   "outputs": [
    {
     "name": "stdout",
     "output_type": "stream",
     "text": [
      "Yearly take home pay for Dr. Sally is 432250.0 after taxes\n",
      "Yearly take home pay for Dr. Jimmy is 247000.0 after taxes\n",
      "Yearly take home pay for Dr. Tony is 281333.0 after taxes\n",
      "Yearly take home pay for Dr. Sophia is 308750.0 after taxes\n"
     ]
    }
   ],
   "source": [
    "##working 25 hours per week\n",
    "physician1.yearlySalary(25)\n",
    "physician2.yearlySalary(25)\n",
    "physician3.yearlySalary(25)\n",
    "physician4.yearlySalary(25)"
   ]
  },
  {
   "cell_type": "code",
   "execution_count": 13,
   "metadata": {},
   "outputs": [
    {
     "name": "stdout",
     "output_type": "stream",
     "text": [
      "Yearly take home pay for Dr. Sally is 873600.0 after taxes\n",
      "Yearly take home pay for Dr. Jimmy is 592800.0 after taxes\n",
      "Yearly take home pay for Dr. Tony is 639662.4 after taxes\n",
      "Yearly take home pay for Dr. Sophia is 702000.0 after taxes\n"
     ]
    }
   ],
   "source": [
    "##working 60 hours per week\n",
    "physician1.yearlySalary(60)\n",
    "physician2.yearlySalary(60)\n",
    "physician3.yearlySalary(60)\n",
    "physician4.yearlySalary(60)"
   ]
  },
  {
   "cell_type": "code",
   "execution_count": 15,
   "metadata": {},
   "outputs": [
    {
     "name": "stdout",
     "output_type": "stream",
     "text": [
      "Saturday on call doctor: ('Sally', 350, 5.5, 'Cardiology')\n",
      "Tuesday on call doctor: ('Sophia', 250, 15, 'Emergency')\n",
      "Monday on call doctor: ('Tony', 227.8, 1, 'Pediactrics')\n",
      "Sunday on call doctor: ('Jimmy', 200, 0.5, 'Oncology')\n",
      "Thursday on call doctor: ('Sophia', 250, 15, 'Emergency')\n",
      "Friday on call doctor: ('Sally', 350, 5.5, 'Cardiology')\n",
      "Wednesday on call doctor: ('Sophia', 250, 15, 'Emergency')\n"
     ]
    }
   ],
   "source": [
    "##on call schedule with only 4 doctors\n",
    "physician4.oncallschedule()"
   ]
  },
  {
   "cell_type": "code",
   "execution_count": 16,
   "metadata": {},
   "outputs": [
    {
     "name": "stdout",
     "output_type": "stream",
     "text": [
      "(Hospital Member: Hillary)\n",
      "(Hospital Member: Jeremy)\n",
      "(Hospital Member: Brittany)\n"
     ]
    }
   ],
   "source": [
    "##add more doctors\n",
    "physician5=p.Physician(\"Hillary\", 200, 10, \"Emergency\")\n",
    "physician6=p.Physician(\"Jeremy\", 370.88, 7.5, \"Gastroenterology\")\n",
    "physician7=p.Physician(\"Brittany\", 400, 25, \"Gynecology\")"
   ]
  },
  {
   "cell_type": "code",
   "execution_count": 17,
   "metadata": {},
   "outputs": [
    {
     "name": "stdout",
     "output_type": "stream",
     "text": [
      "Name: Hillary, Hourly wage: 200\n",
      "Physican Department: Emergency\n",
      "Name: Jeremy, Hourly wage: 370.88\n",
      "Physican Department: Gastroenterology\n",
      "Name: Brittany, Hourly wage: 400\n",
      "Physican Department: Gynecology\n"
     ]
    }
   ],
   "source": [
    "##Display them \n",
    "\n",
    "physician5.display()\n",
    "physician6.display()\n",
    "physician7.display()"
   ]
  },
  {
   "cell_type": "code",
   "execution_count": 18,
   "metadata": {},
   "outputs": [
    {
     "name": "stdout",
     "output_type": "stream",
     "text": [
      "Current Physicians:\n",
      "--------------------\n",
      "Name: Dr. Sally\n",
      "Hourly salary: 350\n",
      "Department: Cardiology\n",
      "--------------------\n",
      "Name: Dr. Jimmy\n",
      "Hourly salary: 200\n",
      "Department: Oncology\n",
      "--------------------\n",
      "Name: Dr. Tony\n",
      "Hourly salary: 227.8\n",
      "Department: Pediactrics\n",
      "--------------------\n",
      "Name: Dr. Sophia\n",
      "Hourly salary: 250\n",
      "Department: Emergency\n",
      "--------------------\n",
      "Name: Dr. Hillary\n",
      "Hourly salary: 200\n",
      "Department: Emergency\n",
      "--------------------\n",
      "Name: Dr. Jeremy\n",
      "Hourly salary: 370.88\n",
      "Department: Gastroenterology\n",
      "--------------------\n",
      "Name: Dr. Brittany\n",
      "Hourly salary: 400\n",
      "Department: Gynecology\n",
      "--------------------\n"
     ]
    }
   ],
   "source": [
    "##display a list with all physicians\n",
    "physician1.displayPhysicians()"
   ]
  },
  {
   "cell_type": "code",
   "execution_count": 19,
   "metadata": {},
   "outputs": [
    {
     "name": "stdout",
     "output_type": "stream",
     "text": [
      "Sunday on call doctor: ('Jimmy', 200, 0.5, 'Oncology')\n",
      "Tuesday on call doctor: ('Sally', 350, 5.5, 'Cardiology')\n",
      "Friday on call doctor: ('Tony', 227.8, 1, 'Pediactrics')\n",
      "Thursday on call doctor: ('Jeremy', 370.88, 7.5, 'Gastroenterology')\n",
      "Wednesday on call doctor: ('Brittany', 400, 25, 'Gynecology')\n",
      "Saturday on call doctor: ('Hillary', 200, 10, 'Emergency')\n",
      "Monday on call doctor: ('Sophia', 250, 15, 'Emergency')\n"
     ]
    }
   ],
   "source": [
    "##on call schedule with 7 doctors(evenly spread)\n",
    "physician3.oncallschedule()"
   ]
  },
  {
   "cell_type": "code",
   "execution_count": 20,
   "metadata": {},
   "outputs": [
    {
     "name": "stdout",
     "output_type": "stream",
     "text": [
      "Physician vacation time will be granted in this order:\n",
      "Sally 0\n",
      "Jeremy 1\n",
      "Brittany 2\n",
      "Tony 3\n",
      "Hillary 4\n",
      "Jimmy 5\n",
      "Sophia 6\n"
     ]
    }
   ],
   "source": [
    "##give out vacation time priority\n",
    "physician1.vactionTimePriority()"
   ]
  },
  {
   "cell_type": "code",
   "execution_count": 21,
   "metadata": {},
   "outputs": [
    {
     "name": "stdout",
     "output_type": "stream",
     "text": [
      "There are 7 physicans currently working at this hospital\n"
     ]
    }
   ],
   "source": [
    "##count physicians, now there are 7\n",
    "\n",
    "physician1.physicianCount()"
   ]
  },
  {
   "cell_type": "code",
   "execution_count": 23,
   "metadata": {},
   "outputs": [
    {
     "name": "stdout",
     "output_type": "stream",
     "text": [
      "Yearly take home pay for Dr. Hillary is 296400.0 after taxes\n",
      "Yearly take home pay for Dr. Jeremy is 439715.328 after taxes\n",
      "Yearly take home pay for Dr. Brittany is 915200.0 after taxes\n"
     ]
    }
   ],
   "source": [
    "##test salary\n",
    "\n",
    "physician5.yearlySalary(30)\n",
    "physician6.yearlySalary(24)\n",
    "physician7.yearlySalary(55)"
   ]
  },
  {
   "cell_type": "code",
   "execution_count": 25,
   "metadata": {},
   "outputs": [
    {
     "name": "stdout",
     "output_type": "stream",
     "text": [
      "(Hospital Member: Rose)\n",
      "(Hospital Member: Sammy)\n",
      "(Hospital Member: Juan)\n"
     ]
    }
   ],
   "source": [
    "##add physicians\n",
    "\n",
    "physician8=p.Physician(\"Rose\", 250, 15, \"Oncology2\")\n",
    "physician9=p.Physician(\"Sammy\", 345.68, 20, \"Haematology\")\n",
    "physician10=p.Physician(\"Juan\", 340.5, 16, \"Neonatal\")"
   ]
  },
  {
   "cell_type": "code",
   "execution_count": 26,
   "metadata": {},
   "outputs": [
    {
     "name": "stdout",
     "output_type": "stream",
     "text": [
      "There are 10 physicans currently working at this hospital\n"
     ]
    }
   ],
   "source": [
    "physician1.physicianCount()"
   ]
  },
  {
   "cell_type": "code",
   "execution_count": 27,
   "metadata": {},
   "outputs": [
    {
     "name": "stdout",
     "output_type": "stream",
     "text": [
      "Doctor ('Sally', 350, 5.5, 'Cardiology') is not on call this week\n",
      "Doctor ('Jimmy', 200, 0.5, 'Oncology') is not on call this week\n",
      "Doctor ('Juan', 340.5, 16, 'Neonatal') is not on call this week\n",
      "Monday on call doctor: ('Tony', 227.8, 1, 'Pediactrics')\n",
      "Sunday on call doctor: ('Hillary', 200, 10, 'Emergency')\n",
      "Tuesday on call doctor: ('Sammy', 345.68, 20, 'Haematology')\n",
      "Thursday on call doctor: ('Rose', 250, 15, 'Oncology2')\n",
      "Friday on call doctor: ('Jeremy', 370.88, 7.5, 'Gastroenterology')\n",
      "Saturday on call doctor: ('Brittany', 400, 25, 'Gynecology')\n",
      "Wednesday on call doctor: ('Sophia', 250, 15, 'Emergency')\n"
     ]
    }
   ],
   "source": [
    "##schedule with more doctors than days of the week\n",
    "physician3.oncallschedule()"
   ]
  },
  {
   "cell_type": "code",
   "execution_count": 28,
   "metadata": {},
   "outputs": [
    {
     "name": "stdout",
     "output_type": "stream",
     "text": [
      "Current Physicians:\n",
      "--------------------\n",
      "Name: Dr. Sally\n",
      "Hourly salary: 350\n",
      "Department: Cardiology\n",
      "--------------------\n",
      "Name: Dr. Jimmy\n",
      "Hourly salary: 200\n",
      "Department: Oncology\n",
      "--------------------\n",
      "Name: Dr. Tony\n",
      "Hourly salary: 227.8\n",
      "Department: Pediactrics\n",
      "--------------------\n",
      "Name: Dr. Sophia\n",
      "Hourly salary: 250\n",
      "Department: Emergency\n",
      "--------------------\n",
      "Name: Dr. Hillary\n",
      "Hourly salary: 200\n",
      "Department: Emergency\n",
      "--------------------\n",
      "Name: Dr. Jeremy\n",
      "Hourly salary: 370.88\n",
      "Department: Gastroenterology\n",
      "--------------------\n",
      "Name: Dr. Brittany\n",
      "Hourly salary: 400\n",
      "Department: Gynecology\n",
      "--------------------\n",
      "Name: Dr. Rose\n",
      "Hourly salary: 250\n",
      "Department: Oncology2\n",
      "--------------------\n",
      "Name: Dr. Sammy\n",
      "Hourly salary: 345.68\n",
      "Department: Haematology\n",
      "--------------------\n",
      "Name: Dr. Juan\n",
      "Hourly salary: 340.5\n",
      "Department: Neonatal\n",
      "--------------------\n"
     ]
    }
   ],
   "source": [
    "##display them all \n",
    "physician3.displayPhysicians()"
   ]
  },
  {
   "cell_type": "code",
   "execution_count": 2,
   "metadata": {},
   "outputs": [
    {
     "name": "stdout",
     "output_type": "stream",
     "text": [
      "(Hospital Member: Lou)\n",
      "(Hospital Member: Bob)\n",
      "(Hospital Member: Carl)\n"
     ]
    }
   ],
   "source": [
    "##Initialize Nurses\n",
    "#name, hourly_wage, years_emplyed, monthly_Hours\n",
    "nurse1=n.Nurse(\"Lou\", 45, 8, 200)\n",
    "nurse2=n.Nurse(\"Bob\", 56, 14, 35)\n",
    "nurse3=n.Nurse(\"Carl\", 20, 1.5, 85)"
   ]
  },
  {
   "cell_type": "code",
   "execution_count": 3,
   "metadata": {},
   "outputs": [
    {
     "name": "stdout",
     "output_type": "stream",
     "text": [
      "Name: Lou, Hourly wage: 45\n",
      "Hours Worked in a month:200 \n",
      "Name: Bob, Hourly wage: 56\n",
      "Hours Worked in a month:35 \n",
      "Name: Carl, Hourly wage: 20\n",
      "Hours Worked in a month:85 \n"
     ]
    }
   ],
   "source": [
    "nurse1.display()\n",
    "nurse2.display()\n",
    "nurse3.display()"
   ]
  },
  {
   "cell_type": "code",
   "execution_count": 4,
   "metadata": {},
   "outputs": [
    {
     "name": "stdout",
     "output_type": "stream",
     "text": [
      "Lous Christmas bonus is 1000 $\n",
      "Bobs Christmas bonus is 2000 $\n",
      "Carls Christmas bonus is 500 $\n"
     ]
    }
   ],
   "source": [
    "nurse1.christmasBonus()\n",
    "nurse2.christmasBonus()\n",
    "nurse3.christmasBonus()"
   ]
  },
  {
   "cell_type": "code",
   "execution_count": 5,
   "metadata": {},
   "outputs": [
    {
     "name": "stdout",
     "output_type": "stream",
     "text": [
      "Lou averages 6.451612903225806 daily hours of work\n",
      "Bob averages 1.1290322580645162 daily hours of work\n",
      "Carl averages 2.7419354838709675 daily hours of work\n"
     ]
    }
   ],
   "source": [
    "##Average daily hours worked in June\n",
    "nurse1.AverageDailyHours(\"JUNE\")\n",
    "nurse2.AverageDailyHours(\"june\")\n",
    "nurse3.AverageDailyHours(\"June\")"
   ]
  },
  {
   "cell_type": "code",
   "execution_count": 6,
   "metadata": {},
   "outputs": [
    {
     "name": "stdout",
     "output_type": "stream",
     "text": [
      "Lou worked 10 overtime hours and take home monthly pay with overtime pay is 9675.0\n",
      "Bob does not qualify for overtime pay\n",
      "Carl does not qualify for overtime pay\n"
     ]
    }
   ],
   "source": [
    "##check if they qualify for overtime pay\n",
    "nurse1.over_time_pay_monthly(10)\n",
    "nurse2.over_time_pay_monthly(10)\n",
    "nurse3.over_time_pay_monthly(10)"
   ]
  },
  {
   "cell_type": "code",
   "execution_count": 7,
   "metadata": {},
   "outputs": [
    {
     "name": "stdout",
     "output_type": "stream",
     "text": [
      "Lou worked 20 overtime hours and take home monthly pay with overtime pay is 10350.0\n"
     ]
    }
   ],
   "source": [
    "nurse1.over_time_pay_monthly(20)"
   ]
  },
  {
   "cell_type": "code",
   "execution_count": 8,
   "metadata": {},
   "outputs": [
    {
     "name": "stdout",
     "output_type": "stream",
     "text": [
      "Carl does not qualify for overtime pay\n"
     ]
    }
   ],
   "source": [
    "nurse3.over_time_pay_monthly(20)"
   ]
  },
  {
   "cell_type": "code",
   "execution_count": 9,
   "metadata": {},
   "outputs": [
    {
     "name": "stdout",
     "output_type": "stream",
     "text": [
      "Nurse 0 assigned to floor 0\n",
      "Nurse 1 assigned to floor 1\n",
      "Nurse 2 assigned to floor 2\n",
      "Nurse 0 is Lou\n",
      "Nurse 1 is Bob\n",
      "Nurse 2 is Carl\n"
     ]
    }
   ],
   "source": [
    "#assign nurses to 3 open floors\n",
    "\n",
    "nurse3.nurseSheduling(3)"
   ]
  },
  {
   "cell_type": "code",
   "execution_count": 11,
   "metadata": {},
   "outputs": [
    {
     "name": "stdout",
     "output_type": "stream",
     "text": [
      "(Hospital Member: Jo-Anne)\n",
      "(Hospital Member: Wade)\n",
      "(Hospital Member: Seth)\n"
     ]
    }
   ],
   "source": [
    "##add some nurses\n",
    "\n",
    "nurse4=n.Nurse(\"Jo-Anne\", 40, 8, 200)\n",
    "nurse5=n.Nurse(\"Wade\", 56, 10, 250)\n",
    "nurse6=n.Nurse(\"Seth\", 45.7, 26, 30)"
   ]
  },
  {
   "cell_type": "code",
   "execution_count": 12,
   "metadata": {},
   "outputs": [
    {
     "name": "stdout",
     "output_type": "stream",
     "text": [
      "Name: Jo-Anne, Hourly wage: 40\n",
      "Hours Worked in a month:200 \n",
      "Name: Wade, Hourly wage: 56\n",
      "Hours Worked in a month:250 \n",
      "Name: Seth, Hourly wage: 45.7\n",
      "Hours Worked in a month:30 \n"
     ]
    }
   ],
   "source": [
    "nurse4.display()\n",
    "nurse5.display()\n",
    "nurse6.display()"
   ]
  },
  {
   "cell_type": "code",
   "execution_count": 13,
   "metadata": {},
   "outputs": [
    {
     "name": "stdout",
     "output_type": "stream",
     "text": [
      "Jo-Anne averages 6.451612903225806 daily hours of work\n",
      "Wade averages 8.064516129032258 daily hours of work\n",
      "Seth averages 0.967741935483871 daily hours of work\n"
     ]
    }
   ],
   "source": [
    "##daily hours worked in october\n",
    "\n",
    "nurse4.AverageDailyHours(\"october\")\n",
    "nurse5.AverageDailyHours(\"October\")\n",
    "nurse6.AverageDailyHours(\"OCTOBER\")"
   ]
  },
  {
   "cell_type": "code",
   "execution_count": 14,
   "metadata": {},
   "outputs": [
    {
     "name": "stdout",
     "output_type": "stream",
     "text": [
      "Jo-Anne worked 25 overtime hours and take home monthly pay with overtime pay is 9500.0\n",
      "Wade worked 13 overtime hours and take home monthly pay with overtime pay is 15092.0\n",
      "Seth does not qualify for overtime pay\n"
     ]
    }
   ],
   "source": [
    "nurse4.over_time_pay_monthly(25)\n",
    "nurse5.over_time_pay_monthly(13)\n",
    "nurse6.over_time_pay_monthly(10)"
   ]
  },
  {
   "cell_type": "code",
   "execution_count": 15,
   "metadata": {},
   "outputs": [
    {
     "name": "stdout",
     "output_type": "stream",
     "text": [
      "Nurse 2 assigned to floor 0\n",
      "Nurse 5 assigned to floor 1\n",
      "Nurse 0 assigned to floor 2\n",
      "Nurse 4 assigned to floor 0\n",
      "Nurse 1 assigned to floor 1\n",
      "Nurse 3 assigned to floor 2\n",
      "Nurse 0 is Lou\n",
      "Nurse 1 is Bob\n",
      "Nurse 2 is Carl\n",
      "Nurse 3 is Jo-Anne\n",
      "Nurse 4 is Wade\n",
      "Nurse 5 is Seth\n"
     ]
    }
   ],
   "source": [
    "#assign nurses to 3 open floors\n",
    "\n",
    "nurse3.nurseSheduling(3)"
   ]
  },
  {
   "cell_type": "code",
   "execution_count": 17,
   "metadata": {},
   "outputs": [
    {
     "name": "stdout",
     "output_type": "stream",
     "text": [
      "Nurse 2 assigned to floor 0\n",
      "Nurse 0 assigned to floor 1\n",
      "Nurse 1 assigned to floor 2\n",
      "Nurse 3 assigned to floor 3\n",
      "Nurse 5 assigned to floor 0\n",
      "Nurse 4 assigned to floor 1\n",
      "Nurse 0 is Lou\n",
      "Nurse 1 is Bob\n",
      "Nurse 2 is Carl\n",
      "Nurse 3 is Jo-Anne\n",
      "Nurse 4 is Wade\n",
      "Nurse 5 is Seth\n"
     ]
    }
   ],
   "source": [
    "#assign nurses to 4 open floors\n",
    "nurse3.nurseSheduling(4)"
   ]
  },
  {
   "cell_type": "code",
   "execution_count": null,
   "metadata": {},
   "outputs": [],
   "source": []
  }
 ],
 "metadata": {
  "kernelspec": {
   "display_name": "Python 3",
   "language": "python",
   "name": "python3"
  },
  "language_info": {
   "codemirror_mode": {
    "name": "ipython",
    "version": 3
   },
   "file_extension": ".py",
   "mimetype": "text/x-python",
   "name": "python",
   "nbconvert_exporter": "python",
   "pygments_lexer": "ipython3",
   "version": "3.8.3-final"
  }
 },
 "nbformat": 4,
 "nbformat_minor": 4
}
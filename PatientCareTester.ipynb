{
 "metadata": {
  "language_info": {
   "codemirror_mode": {
    "name": "ipython",
    "version": 3
   },
   "file_extension": ".py",
   "mimetype": "text/x-python",
   "name": "python",
   "nbconvert_exporter": "python",
   "pygments_lexer": "ipython3",
   "version": "3.8.3-final"
  },
  "orig_nbformat": 2,
  "kernelspec": {
   "name": "python3",
   "display_name": "Python 3"
  }
 },
 "nbformat": 4,
 "nbformat_minor": 2,
 "cells": [
  {
   "cell_type": "code",
   "execution_count": 1,
   "metadata": {},
   "outputs": [],
   "source": [
    "import hospital.patient_care.patient as pat \n",
    "import hospital.patient_care.procedure as procedure"
   ]
  },
  {
   "cell_type": "code",
   "execution_count": 2,
   "metadata": {},
   "outputs": [],
   "source": [
    "Patient1 = pat.Patient(\"Andres\", 45, 'Broken leg')\n",
    "Patient2 = pat.Patient(\"Savanah\", 78, 'Cronic fatigue', ('diabetic, cancer'))\n",
    "Patient3 = pat.Patient(\"Sarah\", 63, 'Flu')\n",
    "Patient4 = pat.Patient(\"Therrie\", 12, 'Unknown')\n",
    "Patient5 = pat.Patient(\"Veronica\", 34, 'Excessive nausea',('Pregnant'))"
   ]
  },
  {
   "cell_type": "code",
   "execution_count": 3,
   "metadata": {},
   "outputs": [
    {
     "output_type": "stream",
     "name": "stdout",
     "text": [
      "Patient name: Andres \nAge: 45 \nService: Broken leg \nPre-existing conditions: None \nRisk factor: None \n\nPatient name: Savanah \nAge: 78 \nService: Cronic fatigue \nPre-existing conditions: diabetic, cancer \nRisk factor: None \n\nPatient name: Sarah \nAge: 63 \nService: Flu \nPre-existing conditions: None \nRisk factor: None \n\nPatient name: Therrie \nAge: 12 \nService: Unknown \nPre-existing conditions: None \nRisk factor: None \n\nPatient name: Veronica \nAge: 34 \nService: Excessive nausea \nPre-existing conditions: Pregnant \nRisk factor: None \n\n"
     ]
    }
   ],
   "source": [
    "Patient1.display_Patient()\n",
    "Patient2.display_Patient()\n",
    "Patient3.display_Patient()\n",
    "Patient4.display_Patient()\n",
    "Patient5.display_Patient()"
   ]
  },
  {
   "cell_type": "code",
   "execution_count": 4,
   "metadata": {},
   "outputs": [
    {
     "output_type": "stream",
     "name": "stdout",
     "text": [
      "List of patients:\n--------------------\nName: Andres\nAge: 45\nService: Broken leg\nPre-existing Conditions: None\nRisk factor: None\n--------------------\nName: Savanah\nAge: 78\nService: Cronic fatigue\nPre-existing Conditions: diabetic, cancer\nRisk factor: None\n--------------------\nName: Sarah\nAge: 63\nService: Flu\nPre-existing Conditions: None\nRisk factor: None\n--------------------\nName: Therrie\nAge: 12\nService: Unknown\nPre-existing Conditions: None\nRisk factor: None\n--------------------\nName: Veronica\nAge: 34\nService: Excessive nausea\nPre-existing Conditions: Pregnant\nRisk factor: None\n--------------------\n"
     ]
    }
   ],
   "source": [
    "Patient1.display_PatientsList()"
   ]
  },
  {
   "cell_type": "code",
   "execution_count": 5,
   "metadata": {},
   "outputs": [
    {
     "output_type": "stream",
     "name": "stdout",
     "text": [
      "Current patient count: 5\n"
     ]
    }
   ],
   "source": [
    "Patient1.patient_Count()"
   ]
  },
  {
   "cell_type": "code",
   "execution_count": 6,
   "metadata": {},
   "outputs": [
    {
     "output_type": "stream",
     "name": "stdout",
     "text": [
      "Emergency room waiting list:\n"
     ]
    }
   ],
   "source": [
    "Patient1.display_Wait_Times_List()"
   ]
  },
  {
   "cell_type": "code",
   "execution_count": 7,
   "metadata": {},
   "outputs": [
    {
     "output_type": "stream",
     "name": "stdout",
     "text": [
      "Invalid input.\n",
      "Input must be: \"yes\" or \"no\".\n",
      "Invalid input.\n",
      "Input must be: \"yes\" or \"no\".\n"
     ]
    }
   ],
   "source": [
    "#Import the wrong response to verify code\n",
    "Patient1.triage_Patient()\n",
    "Patient2.triage_Patient()\n",
    "Patient3.triage_Patient()\n",
    "Patient4.triage_Patient()\n",
    "Patient5.triage_Patient()"
   ]
  },
  {
   "cell_type": "code",
   "execution_count": 8,
   "metadata": {},
   "outputs": [
    {
     "output_type": "stream",
     "name": "stdout",
     "text": [
      "Emergency room waiting list:\n\nName: Andres \nRisk factor: 10 \nEstimated wait time: 0 minutes\n\nName: Therrie \nRisk factor: 9 \nEstimated wait time: 26 minutes\n\nName: Sarah \nRisk factor: 7 \nEstimated wait time: 51 minutes\n\nName: Veronica \nRisk factor: 5 \nEstimated wait time: 73 minutes\n\nName: Savanah \nRisk factor: 1 \nEstimated wait time: 94 minutes\n"
     ]
    }
   ],
   "source": [
    "Patient1.display_Wait_Times_List()"
   ]
  },
  {
   "cell_type": "code",
   "execution_count": 9,
   "metadata": {},
   "outputs": [],
   "source": [
    "Patient6 = pat.Patient(\"Sylvia\", 91, 'Hit her head', ('Weakened immune system'))\n",
    "Patient7 = pat.Patient(\"Chris\", 78, 'Dislocated arm', ('Aids'))\n",
    "Patient8 = pat.Patient(\"Carlos\", 31, 'Chest pains')\n"
   ]
  },
  {
   "cell_type": "code",
   "execution_count": 10,
   "metadata": {},
   "outputs": [
    {
     "output_type": "stream",
     "name": "stdout",
     "text": [
      "Emergency room waiting list:\n\nName: Andres \nRisk factor: 10 \nEstimated wait time: 0 minutes\n\nName: Therrie \nRisk factor: 9 \nEstimated wait time: 26 minutes\n\nName: Sarah \nRisk factor: 7 \nEstimated wait time: 51 minutes\n\nName: Veronica \nRisk factor: 5 \nEstimated wait time: 73 minutes\n\nName: Savanah \nRisk factor: 1 \nEstimated wait time: 94 minutes\n"
     ]
    }
   ],
   "source": [
    "Patient1.display_Wait_Times_List()"
   ]
  },
  {
   "cell_type": "code",
   "execution_count": 11,
   "metadata": {},
   "outputs": [
    {
     "output_type": "stream",
     "name": "stdout",
     "text": [
      "List of patients:\n--------------------\nName: Andres\nAge: 45\nService: Broken leg\nPre-existing Conditions: None\nRisk factor: None\n--------------------\nName: Savanah\nAge: 78\nService: Cronic fatigue\nPre-existing Conditions: diabetic, cancer\nRisk factor: None\n--------------------\nName: Sarah\nAge: 63\nService: Flu\nPre-existing Conditions: None\nRisk factor: None\n--------------------\nName: Therrie\nAge: 12\nService: Unknown\nPre-existing Conditions: None\nRisk factor: None\n--------------------\nName: Veronica\nAge: 34\nService: Excessive nausea\nPre-existing Conditions: Pregnant\nRisk factor: None\n--------------------\nName: Sylvia\nAge: 91\nService: Hit her head\nPre-existing Conditions: Weakened immune system\nRisk factor: None\n--------------------\nName: Chris\nAge: 78\nService: Dislocated arm\nPre-existing Conditions: Aids\nRisk factor: None\n--------------------\nName: Carlos\nAge: 31\nService: Chest pains\nPre-existing Conditions: None\nRisk factor: None\n--------------------\n"
     ]
    }
   ],
   "source": [
    "Patient1.display_PatientsList()"
   ]
  },
  {
   "cell_type": "code",
   "execution_count": 12,
   "metadata": {},
   "outputs": [
    {
     "output_type": "stream",
     "name": "stdout",
     "text": [
      "Invalid input.\nInput must be: \"yes\" or \"no\".\n"
     ]
    }
   ],
   "source": [
    "Patient6.triage_Patient()\n",
    "Patient7.triage_Patient()\n",
    "Patient8.triage_Patient()"
   ]
  },
  {
   "cell_type": "code",
   "execution_count": 13,
   "metadata": {},
   "outputs": [
    {
     "output_type": "stream",
     "name": "stdout",
     "text": [
      "Emergency room waiting list:\n\nName: Andres \nRisk factor: 10 \nEstimated wait time: 0 minutes\n\nName: Therrie \nRisk factor: 9 \nEstimated wait time: 26 minutes\n\nName: Sarah \nRisk factor: 7 \nEstimated wait time: 51 minutes\n\nName: Sylvia \nRisk factor: 7 \nEstimated wait time: 73 minutes\n\nName: Veronica \nRisk factor: 5 \nEstimated wait time: 96 minutes\n\nName: Chris \nRisk factor: 5 \nEstimated wait time: 117 minutes\n\nName: Carlos \nRisk factor: 4 \nEstimated wait time: 137 minutes\n\nName: Savanah \nRisk factor: 1 \nEstimated wait time: 156 minutes\n"
     ]
    }
   ],
   "source": [
    "Patient1.display_Wait_Times_List()"
   ]
  },
  {
   "cell_type": "code",
   "execution_count": 14,
   "metadata": {},
   "outputs": [],
   "source": [
    "Procedure1 = procedure.Procedure('Surgery1',3,10000,75)\n",
    "Procedure2 = procedure.Procedure('Surgery2',8,2500,25)\n",
    "Procedure3 = procedure.Procedure('Surgery3',3,11500,120)\n",
    "Procedure4 = procedure.Procedure('Surgery4',4,90000,200)\n",
    "Procedure5 = procedure.Procedure('Surgery5',1,1000,10)"
   ]
  },
  {
   "cell_type": "code",
   "execution_count": 15,
   "metadata": {},
   "outputs": [
    {
     "output_type": "stream",
     "name": "stdout",
     "text": [
      "Procedure name: Surgery1 \nBase procedure risk: 3 \nBase procedure cost: 10000 \nAverage length of care: 75 \n\nProcedure name: Surgery2 \nBase procedure risk: 8 \nBase procedure cost: 2500 \nAverage length of care: 25 \n\nProcedure name: Surgery3 \nBase procedure risk: 3 \nBase procedure cost: 11500 \nAverage length of care: 120 \n\nProcedure name: Surgery4 \nBase procedure risk: 4 \nBase procedure cost: 90000 \nAverage length of care: 200 \n\nProcedure name: Surgery5 \nBase procedure risk: 1 \nBase procedure cost: 1000 \nAverage length of care: 10 \n\n"
     ]
    }
   ],
   "source": [
    "Procedure1.display_Procedure()\n",
    "Procedure2.display_Procedure()\n",
    "Procedure3.display_Procedure()\n",
    "Procedure4.display_Procedure()\n",
    "Procedure5.display_Procedure()"
   ]
  },
  {
   "cell_type": "code",
   "execution_count": 16,
   "metadata": {},
   "outputs": [
    {
     "output_type": "stream",
     "name": "stdout",
     "text": [
      "List of procedures:\n--------------------\nProcedure name: Surgery1\nBase risk factor: 3\nAverage procedure cost: 10000\nAverage length of care: 75\n--------------------\nProcedure name: Surgery2\nBase risk factor: 8\nAverage procedure cost: 2500\nAverage length of care: 25\n--------------------\nProcedure name: Surgery3\nBase risk factor: 3\nAverage procedure cost: 11500\nAverage length of care: 120\n--------------------\nProcedure name: Surgery4\nBase risk factor: 4\nAverage procedure cost: 90000\nAverage length of care: 200\n--------------------\nProcedure name: Surgery5\nBase risk factor: 1\nAverage procedure cost: 1000\nAverage length of care: 10\n--------------------\n"
     ]
    }
   ],
   "source": [
    "Procedure1.display_ProcedureList()"
   ]
  },
  {
   "cell_type": "code",
   "execution_count": 17,
   "metadata": {},
   "outputs": [
    {
     "output_type": "stream",
     "name": "stdout",
     "text": [
      "4\n5\n10\n9\n10\n"
     ]
    }
   ],
   "source": [
    "print(Procedure1.indProcedureRisk(Patient1))\n",
    "print(Procedure1.indProcedureRisk(Patient3))\n",
    "print(Procedure1.indProcedureRisk(Patient6))\n",
    "print(Procedure2.indProcedureRisk(Patient1))\n",
    "print(Procedure2.indProcedureRisk(Patient6))"
   ]
  },
  {
   "cell_type": "code",
   "execution_count": 18,
   "metadata": {},
   "outputs": [
    {
     "output_type": "stream",
     "name": "stdout",
     "text": [
      "10720\n10900\nProcedure risk is too high risk. Procedure will not proceed.\nProcedure risk is too high risk. Procedure will not proceed.\nProcedure risk is too high risk. Procedure will not proceed.\n"
     ]
    }
   ],
   "source": [
    "print(Procedure1.expectedTotalProcedureCost(Patient1))\n",
    "print(Procedure1.expectedTotalProcedureCost(Patient3))\n",
    "print(Procedure1.expectedTotalProcedureCost(Patient6))\n",
    "print(Procedure2.expectedTotalProcedureCost(Patient1))\n",
    "print(Procedure2.expectedTotalProcedureCost(Patient6))"
   ]
  },
  {
   "cell_type": "code",
   "execution_count": 19,
   "metadata": {},
   "outputs": [],
   "source": [
    "listProcedures1 = (Procedure1, Procedure2)\n",
    "listProcedures2 = (Procedure1, Procedure2, Procedure3)\n",
    "listProcedures3 = (Procedure1,  Procedure3, Procedure4, Procedure5)"
   ]
  },
  {
   "cell_type": "code",
   "execution_count": 20,
   "metadata": {},
   "outputs": [
    {
     "output_type": "stream",
     "name": "stdout",
     "text": [
      "\nPatient: Andres\nProcedure:\tBase procedure cost:\tStaffing cost:\tExpected total cost:\tRisk factor\tComments\n----------\t--------------------\t--------------\t--------------------\t-----------\t-----------\nSurgery1\t10000\t\t\t720\t\t10720\t\t\t4\t\t\nSurgery2\tNA\t\t\tNA\t\tNA\t\t\t9\t\tDenied, too high risk\n----------\t--------------------\t--------------\t--------------------\t-----------\t-----------\nTotal cost:\t10000\t\t\t720\t\t10720\n\nPatient: Andres\nProcedure:\tBase procedure cost:\tStaffing cost:\tExpected total cost:\tRisk factor\tComments\n----------\t--------------------\t--------------\t--------------------\t-----------\t-----------\nSurgery1\t10000\t\t\t720\t\t10720\t\t\t4\t\t\nSurgery3\t11500\t\t\t1152\t\t12652\t\t\t4\t\t\nSurgery4\t90000\t\t\t2400\t\t92400\t\t\t5\t\t\nSurgery5\t1000\t\t\t72\t\t1072\t\t\t2\t\t\n----------\t--------------------\t--------------\t--------------------\t-----------\t-----------\nTotal cost:\t112500\t\t\t4344\t\t116844\n\nPatient: Sylvia\nProcedure:\tBase procedure cost:\tStaffing cost:\tExpected total cost:\tRisk factor\tComments\n----------\t--------------------\t--------------\t--------------------\t-----------\t-----------\nSurgery1\tNA\t\t\tNA\t\tNA\t\t\t10\t\tDenied, too high risk\nSurgery2\tNA\t\t\tNA\t\tNA\t\t\t10\t\tDenied, too high risk\nSurgery3\tNA\t\t\tNA\t\tNA\t\t\t10\t\tDenied, too high risk\n----------\t--------------------\t--------------\t--------------------\t-----------\t-----------\nTotal cost:\t0\t\t\t0\t\t0\n\nPatient: Sarah\nProcedure:\tBase procedure cost:\tStaffing cost:\tExpected total cost:\tRisk factor\tComments\n----------\t--------------------\t--------------\t--------------------\t-----------\t-----------\nSurgery1\t10000\t\t\t900\t\t10900\t\t\t5\t\t\nSurgery2\tNA\t\t\tNA\t\tNA\t\t\t10\t\tDenied, too high risk\n----------\t--------------------\t--------------\t--------------------\t-----------\t-----------\nTotal cost:\t10000\t\t\t900\t\t10900\n"
     ]
    }
   ],
   "source": [
    "Patient1.patient_TotalCost(listProcedures1)\n",
    "Patient1.patient_TotalCost(listProcedures3)\n",
    "Patient6.patient_TotalCost(listProcedures2)\n",
    "Patient3.patient_TotalCost(listProcedures1)"
   ]
  },
  {
   "cell_type": "code",
   "execution_count": null,
   "metadata": {},
   "outputs": [],
   "source": []
  },
  {
   "cell_type": "code",
   "execution_count": null,
   "metadata": {},
   "outputs": [],
   "source": []
  }
 ]
}